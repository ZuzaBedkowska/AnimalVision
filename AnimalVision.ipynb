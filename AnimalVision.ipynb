{
 "cells": [
  {
   "attachments": {},
   "cell_type": "markdown",
   "metadata": {},
   "source": [
    "#### **Instalacja bibliotek**"
   ]
  },
  {
   "cell_type": "code",
   "execution_count": 1,
   "metadata": {},
   "outputs": [],
   "source": [
    "#tu rzeczy do instalacji, zaczynac od %\n",
    "#%pip install matplotlib\n",
    "#%pip install pandas\n",
    "#tu sklearn, możliwe że trzeba zrestartowac krenel po updacie\n",
    "#%pip install -U scikit-learn\n",
    "#%pip install scipy"
   ]
  },
  {
   "attachments": {},
   "cell_type": "markdown",
   "metadata": {},
   "source": [
    "#### **Importy**"
   ]
  },
  {
   "cell_type": "code",
   "execution_count": 2,
   "metadata": {},
   "outputs": [
    {
     "name": "stdout",
     "output_type": "stream",
     "text": [
      "Num GPUs Available:  1\n",
      "Import done\n"
     ]
    }
   ],
   "source": [
    "#tu biblioteki\n",
    "import numpy as np\n",
    "import time\n",
    "from tensorflow.keras.preprocessing.image import ImageDataGenerator\n",
    "from tensorflow.keras.models import Sequential\n",
    "from tensorflow.keras.layers import Conv2D, Dense, Flatten, MaxPool2D, Dropout, BatchNormalization\n",
    "from tensorflow.keras.optimizers import Adam, Adamax\n",
    "from tensorflow.keras import regularizers\n",
    "from matplotlib import pyplot as plt\n",
    "from sklearn.metrics import roc_curve, auc, accuracy_score\n",
    "import tensorflow as tf\n",
    "\n",
    "print(\"Num GPUs Available: \", len(tf.config.list_physical_devices('GPU')))\n",
    "\n",
    "print(\"Import done\")"
   ]
  },
  {
   "attachments": {},
   "cell_type": "markdown",
   "metadata": {},
   "source": [
    "#### **Przeniesienie obliczeń na GPU**"
   ]
  },
  {
   "cell_type": "code",
   "execution_count": 3,
   "metadata": {},
   "outputs": [
    {
     "name": "stdout",
     "output_type": "stream",
     "text": [
      "1  GPUs found!\n",
      "1  Physical GPUs,  1  Logical GPUs\n",
      "GPUs done\n"
     ]
    }
   ],
   "source": [
    "#GPUs - tu poki co nie dziala, trzeba postawic srodowisko wirtualne\n",
    "gpus = tf.config.experimental.list_physical_devices('GPU')\n",
    "print (len(gpus), \" GPUs found!\")\n",
    "if gpus:\n",
    "    try:\n",
    "        for gpu in gpus:\n",
    "            tf.config.experimental.set_memory_growth(gpu, True)\n",
    "        logical_gpus = tf.config.experimental.list_logical_devices('GPU')\n",
    "        print(len(gpus), \" Physical GPUs, \", len(logical_gpus), \" Logical GPUs\")\n",
    "    except RuntimeError as e:\n",
    "        print(e)\n",
    "print(\"GPUs done\")"
   ]
  },
  {
   "attachments": {},
   "cell_type": "markdown",
   "metadata": {},
   "source": [
    "#### **Wczytanie obrazków**"
   ]
  },
  {
   "cell_type": "code",
   "execution_count": 4,
   "metadata": {},
   "outputs": [],
   "source": [
    "def directory_flow(train_directory, val_directory, shape):\n",
    "    #directory = nazwy folderow,\n",
    "    #shape = rozmiar obrazka, u nas 256x256\n",
    "    print (\"generators start\")\n",
    "    image_generator=ImageDataGenerator()\n",
    "    train_gen = image_generator.flow_from_directory(train_directory, target_size=shape, shuffle=True) #sciezka do train dir\n",
    "    print (\"train done\")\n",
    "    val_gen = image_generator.flow_from_directory(val_directory, target_size=shape, shuffle=True)\n",
    "    print (\"validate done\")\n",
    "    print (\"generators done\")\n",
    "    #zastanowic sie nad zwracaniem validate gen\n",
    "    return train_gen, val_gen"
   ]
  },
  {
   "cell_type": "code",
   "execution_count": 5,
   "metadata": {},
   "outputs": [
    {
     "name": "stdout",
     "output_type": "stream",
     "text": [
      "generators start\n",
      "Found 30000 images belonging to 15 classes.\n",
      "train done\n",
      "Found 2000 images belonging to 15 classes.\n",
      "validate done\n",
      "generators done\n",
      "Directory flow done!\n"
     ]
    }
   ],
   "source": [
    "#nie zadziala, bo jeszcze nie ma obrazkow\n",
    "train_gen, val_gen = directory_flow(\"./archive/TrainingData\", \"./archive/ValidationData\", (256, 256))\n",
    "print(\"Directory flow done!\")"
   ]
  },
  {
   "attachments": {},
   "cell_type": "markdown",
   "metadata": {},
   "source": [
    "#### **Wstępna analiza danych**"
   ]
  },
  {
   "cell_type": "code",
   "execution_count": 6,
   "metadata": {},
   "outputs": [],
   "source": [
    "# Do analizy danych\n",
    "#labels = kategorie (rodzaje zwierzatek)\n",
    "def plot_label_count(df, plot_title):\n",
    "    '''\n",
    "    This function take df and plot labels value counts\n",
    "    '''\n",
    "\n",
    "    # Define needed variables\n",
    "    vcounts = df['labels'].value_counts()\n",
    "    labels = vcounts.keys().tolist()\n",
    "    values = vcounts.tolist()\n",
    "    lcount = len(labels)\n",
    "\n",
    "    if lcount > 55:\n",
    "        print('The number of labels is > 55, no plot will be produced')\n",
    "\n",
    "    else:\n",
    "        plot_labels(lcount, labels, values, plot_title)\n",
    "\n",
    "def plot_labels(lcount, labels, values, plot_title):\n",
    "    width = lcount * 4\n",
    "    width = np.min([width, 20])\n",
    "\n",
    "    plt.figure(figsize= (width, 5))\n",
    "\n",
    "    form = {'family': 'serif', 'color': 'blue', 'size': 25}\n",
    "    sns.barplot(x=labels, y=values)\n",
    "    plt.title(f'Images per Label in {plot_title} data', fontsize= 24, color= 'blue')\n",
    "    plt.xticks(rotation= 90, fontsize= 18)\n",
    "    plt.yticks(fontsize= 18)\n",
    "    plt.xlabel('CLASS', fontdict= form)\n",
    "    yaxis_label = 'IMAGE COUNT'\n",
    "    plt.ylabel(yaxis_label, fontdict= form)\n",
    "\n",
    "    rotation = 'vertical' if lcount >= 8 else 'horizontal'\n",
    "    for i in range(lcount):\n",
    "        plt.text(i, values[i] / 2, str(values[i]), fontsize= 12,\n",
    "                rotation= rotation, color= 'yellow', ha= 'center')\n",
    "\n",
    "    plt.show()"
   ]
  },
  {
   "cell_type": "code",
   "execution_count": 7,
   "metadata": {},
   "outputs": [],
   "source": [
    "#Do analizy danych = przykładowe obrazki\n",
    "def show_images(gen):\n",
    "    '''\n",
    "    This function take the data generator and show sample of the images\n",
    "    '''\n",
    "\n",
    "    # return classes , images to be displayed\n",
    "    g_dict = gen.class_indices        # defines dictionary {'class': index}\n",
    "    classes = list(g_dict.keys())     # defines list of dictionary's kays (classes), classes names : string\n",
    "    images, labels = next(gen)        # get a batch size samples from the generator\n",
    "\n",
    "    # calculate number of displayed samples\n",
    "    length = len(labels)        # length of batch size\n",
    "    sample = min(length, 25)    # check if sample less than 25 images\n",
    "\n",
    "    plt.figure(figsize= (20, 20))\n",
    "\n",
    "    for i in range(sample):\n",
    "        plt.subplot(5, 5, i + 1)\n",
    "        image = images[i] / 255       # scales data to range (0 - 255)\n",
    "        plt.imshow(image)\n",
    "        index = np.argmax(labels[i])  # get image index\n",
    "        class_name = classes[index]   # get class of image\n",
    "        plt.title(class_name, color= 'blue', fontsize= 12)\n",
    "        plt.axis('off')\n",
    "    plt.show()"
   ]
  },
  {
   "cell_type": "code",
   "execution_count": 8,
   "metadata": {},
   "outputs": [],
   "source": [
    "#analiza danych - zadziala jak zamiast train_gen i val_gen da się dataframy\n",
    "#pokaz ile obrazkow w kategorii\n",
    "\n",
    "#plot_label_count(train_gen, 'train')\n",
    "#plot_label_count(val_gen, 'validate')"
   ]
  },
  {
   "attachments": {},
   "cell_type": "markdown",
   "metadata": {},
   "source": [
    "#### **Modele**"
   ]
  },
  {
   "cell_type": "code",
   "execution_count": 9,
   "metadata": {},
   "outputs": [
    {
     "name": "stdout",
     "output_type": "stream",
     "text": [
      "Model done!\n"
     ]
    }
   ],
   "source": [
    "#model madry - xception trenowany wstepnie(weights = imagenet)\n",
    "def make_smart_xception_pretrained_model(shape):\n",
    "    #te rzeczy w nawiasie zapobiegna przetrenowaniu\n",
    "    base_model = tf.keras.applications.xception.Xception(include_top=False, weights=\"imagenet\",input_shape=shape, pooling='max')\n",
    "    model = Sequential([\n",
    "        base_model,\n",
    "        Dense(15, activation= 'softmax')\n",
    "        ])\n",
    "    #ograniczenie warstw zapobiegnie przetrenowaniu\n",
    "    model.compile(Adamax(learning_rate= 0.001), loss= 'categorical_crossentropy', metrics= ['accuracy'])\n",
    "    return model\n",
    "print(\"Model done!\")"
   ]
  },
  {
   "cell_type": "code",
   "execution_count": 10,
   "metadata": {},
   "outputs": [
    {
     "name": "stdout",
     "output_type": "stream",
     "text": [
      "Model done!\n"
     ]
    }
   ],
   "source": [
    "#model glupi - tylko na xception, nie trenowany wstepnie bo weights=none\n",
    "def make_dumb_xception_non_pretrained_model(shape):\n",
    "    base_model = tf.keras.applications.xception.Xception(include_top=True, weights=None,input_shape=shape, pooling='max', classes=15)\n",
    "    base_model.compile(Adamax(learning_rate= 0.001), loss= 'categorical_crossentropy', metrics= ['accuracy'])\n",
    "    return base_model\n",
    "print(\"Model done!\")"
   ]
  },
  {
   "cell_type": "code",
   "execution_count": 11,
   "metadata": {},
   "outputs": [
    {
     "name": "stdout",
     "output_type": "stream",
     "text": [
      "Model done!\n"
     ]
    }
   ],
   "source": [
    "#model glupi - taki jak na zajeciach, ale najwiecej warstw\n",
    "def make_dumb_the_biggest_classic_model(shape):\n",
    "    model = Sequential()\n",
    "    model.add(Conv2D(kernel_size=(3,3), filters = 3, activation=\"relu\", input_shape = shape))\n",
    "    model.add(Conv2D(kernel_size=(3,3), filters = 3, activation=\"relu\"))\n",
    "    model.add(Conv2D(kernel_size=(3,3), filters = 3, activation=\"relu\"))\n",
    "    model.add(Conv2D(kernel_size=(3,3), filters = 3, activation=\"relu\"))\n",
    "    model.add(Conv2D(kernel_size=(3,3), filters = 3, activation=\"relu\"))\n",
    "    model.add(Conv2D(kernel_size=(3,3), filters = 3, activation=\"relu\"))\n",
    "    model.add(Conv2D(kernel_size=(3,3), filters = 3, activation=\"relu\"))\n",
    "    model.add(Conv2D(kernel_size=(3,3), filters = 3, activation=\"relu\"))\n",
    "    model.add(Conv2D(kernel_size=(3,3), filters = 3, activation=\"relu\"))\n",
    "    model.add(Conv2D(kernel_size=(3,3), filters = 3, activation=\"relu\"))\n",
    "    model.add(Conv2D(kernel_size=(3,3), filters = 3, activation=\"relu\"))\n",
    "    model.add(Conv2D(kernel_size=(3,3), filters = 3, activation=\"relu\"))\n",
    "    model.add(Conv2D(kernel_size=(3,3), filters = 3, activation=\"relu\"))\n",
    "    model.add(Conv2D(kernel_size=(3,3), filters = 3, activation=\"relu\"))\n",
    "    model.add(Conv2D(kernel_size=(3,3), filters = 3, activation=\"relu\"))\n",
    "    model.add(Conv2D(kernel_size=(3,3), filters = 3, activation=\"relu\"))\n",
    "    model.add(Conv2D(kernel_size=(3,3), filters = 3, activation=\"relu\"))\n",
    "    model.add(Conv2D(kernel_size=(3,3), filters = 3, activation=\"relu\"))\n",
    "    model.add(Conv2D(kernel_size=(3,3), filters = 3, activation=\"relu\"))\n",
    "    model.add(Conv2D(kernel_size=(3,3), filters = 3, activation=\"relu\"))\n",
    "    model.add(Conv2D(kernel_size=(3,3), filters = 3, activation=\"relu\"))\n",
    "    model.add(Conv2D(kernel_size=(3,3), filters = 3, activation=\"relu\"))\n",
    "    model.add(Conv2D(kernel_size=(3,3), filters = 3, activation=\"relu\"))\n",
    "    model.add(Conv2D(kernel_size=(3,3), filters = 3, activation=\"relu\"))\n",
    "    model.add(Conv2D(kernel_size=(3,3), filters = 3, activation=\"relu\"))\n",
    "    model.add(Conv2D(kernel_size=(3,3), filters = 3, activation=\"relu\"))\n",
    "    model.add(Conv2D(kernel_size=(3,3), filters = 3, activation=\"relu\"))\n",
    "    model.add(Conv2D(kernel_size=(3,3), filters = 3, activation=\"relu\"))\n",
    "    model.add(Conv2D(kernel_size=(3,3), filters = 3, activation=\"relu\"))\n",
    "    model.add(Conv2D(kernel_size=(3,3), filters = 3, activation=\"relu\"))\n",
    "    model.add(Flatten())\n",
    "    model.add(Dense(512, activation=\"relu\"))\n",
    "    model.add(Dense(256, activation=\"relu\"))\n",
    "    model.add(Dense(128, activation=\"relu\"))\n",
    "    model.add(Dense(64, activation=\"relu\"))\n",
    "    model.add(Dense(32, activation=\"relu\"))\n",
    "    model.add(Dense(16, activation=\"relu\"))\n",
    "    model.add(Dense(15, activation=\"softmax\"))\n",
    "    model.compile(Adamax(learning_rate= 0.001), loss= 'categorical_crossentropy', metrics= ['accuracy'])\n",
    "    return model\n",
    "print(\"Model done!\")"
   ]
  },
  {
   "cell_type": "code",
   "execution_count": 12,
   "metadata": {},
   "outputs": [
    {
     "name": "stdout",
     "output_type": "stream",
     "text": [
      "Model done!\n"
     ]
    }
   ],
   "source": [
    "#model glupi - taki jak na zajeciach, ale wiecej warstw\n",
    "def make_dumb_bigger_classic_model(shape):\n",
    "    model = Sequential()\n",
    "    model.add(Conv2D(kernel_size=(3,3), filters = 3, activation=\"relu\", input_shape = shape))\n",
    "    model.add(Conv2D(kernel_size=(3,3), filters = 3, activation=\"relu\"))\n",
    "    model.add(Conv2D(kernel_size=(3,3), filters = 3, activation=\"relu\"))\n",
    "    model.add(Conv2D(kernel_size=(3,3), filters = 3, activation=\"relu\"))\n",
    "    model.add(Conv2D(kernel_size=(3,3), filters = 3, activation=\"relu\"))\n",
    "    model.add(Conv2D(kernel_size=(3,3), filters = 3, activation=\"relu\"))\n",
    "    model.add(Conv2D(kernel_size=(3,3), filters = 3, activation=\"relu\"))\n",
    "    model.add(Conv2D(kernel_size=(3,3), filters = 3, activation=\"relu\"))\n",
    "    model.add(Conv2D(kernel_size=(3,3), filters = 3, activation=\"relu\"))\n",
    "    model.add(Conv2D(kernel_size=(3,3), filters = 3, activation=\"relu\"))\n",
    "    model.add(Conv2D(kernel_size=(3,3), filters = 3, activation=\"relu\"))\n",
    "    model.add(Conv2D(kernel_size=(3,3), filters = 3, activation=\"relu\"))\n",
    "    model.add(Conv2D(kernel_size=(3,3), filters = 3, activation=\"relu\"))\n",
    "    model.add(Conv2D(kernel_size=(3,3), filters = 3, activation=\"relu\"))\n",
    "    model.add(Conv2D(kernel_size=(3,3), filters = 3, activation=\"relu\"))\n",
    "    model.add(Flatten())\n",
    "    model.add(Dense(256, activation=\"relu\"))\n",
    "    model.add(Dense(128, activation=\"relu\"))\n",
    "    model.add(Dense(64, activation=\"relu\"))\n",
    "    model.add(Dense(15, activation=\"softmax\"))\n",
    "    model.compile(Adamax(learning_rate= 0.001), loss= 'categorical_crossentropy', metrics= ['accuracy'])\n",
    "    return model\n",
    "print(\"Model done!\")\n"
   ]
  },
  {
   "cell_type": "code",
   "execution_count": 13,
   "metadata": {},
   "outputs": [
    {
     "name": "stdout",
     "output_type": "stream",
     "text": [
      "Model done!\n"
     ]
    }
   ],
   "source": [
    "#model glupi - taki jak na zajeciach\n",
    "def make_dumb_classic_model(shape):\n",
    "    model = Sequential()\n",
    "    model.add(Conv2D(kernel_size=(3,3), filters = 3, activation=\"relu\", input_shape = shape))\n",
    "    model.add(Conv2D(kernel_size=(3,3), filters = 3, activation=\"relu\"))\n",
    "    model.add(Conv2D(kernel_size=(3,3), filters = 3, activation=\"relu\"))\n",
    "    model.add(Conv2D(kernel_size=(3,3), filters = 3, activation=\"relu\"))\n",
    "    model.add(Conv2D(kernel_size=(3,3), filters = 3, activation=\"relu\"))\n",
    "    model.add(Flatten())\n",
    "    model.add(Dense(256, activation=\"relu\"))\n",
    "    model.add(Dense(15, activation=\"softmax\"))\n",
    "    model.compile(Adamax(), loss= 'categorical_crossentropy', metrics= ['accuracy'])\n",
    "    return model\n",
    "print(\"Model done!\")"
   ]
  },
  {
   "attachments": {},
   "cell_type": "markdown",
   "metadata": {},
   "source": [
    "#### **Utworzenie modelu i rozpoczęcie treningu**"
   ]
  },
  {
   "cell_type": "code",
   "execution_count": 14,
   "metadata": {},
   "outputs": [
    {
     "name": "stdout",
     "output_type": "stream",
     "text": [
      "Model generated\n"
     ]
    }
   ],
   "source": [
    "model = make_dumb_classic_model((256, 256, 3))\n",
    "#model = make_dumb_bigger_classic_model((256, 256, 3))\n",
    "#model = make_dumb_the_biggest_classic_model((256, 256, 3))\n",
    "#model = make_dumb_xception_non_pretrained_model((256,256,3))\n",
    "#model = make_smart_xception_pretrained_model((256, 256, 3))\n",
    "\n",
    "print(\"Model generated\")"
   ]
  },
  {
   "cell_type": "code",
   "execution_count": 15,
   "metadata": {},
   "outputs": [
    {
     "name": "stdout",
     "output_type": "stream",
     "text": [
      "Model: \"sequential\"\n",
      "_________________________________________________________________\n",
      " Layer (type)                Output Shape              Param #   \n",
      "=================================================================\n",
      " conv2d (Conv2D)             (None, 254, 254, 3)       84        \n",
      "                                                                 \n",
      " conv2d_1 (Conv2D)           (None, 252, 252, 3)       84        \n",
      "                                                                 \n",
      " conv2d_2 (Conv2D)           (None, 250, 250, 3)       84        \n",
      "                                                                 \n",
      " conv2d_3 (Conv2D)           (None, 248, 248, 3)       84        \n",
      "                                                                 \n",
      " conv2d_4 (Conv2D)           (None, 246, 246, 3)       84        \n",
      "                                                                 \n",
      " flatten (Flatten)           (None, 181548)            0         \n",
      "                                                                 \n",
      " dense (Dense)               (None, 256)               46476544  \n",
      "                                                                 \n",
      " dense_1 (Dense)             (None, 15)                3855      \n",
      "                                                                 \n",
      "=================================================================\n",
      "Total params: 46,480,819\n",
      "Trainable params: 46,480,819\n",
      "Non-trainable params: 0\n",
      "_________________________________________________________________\n"
     ]
    }
   ],
   "source": [
    "model.summary()"
   ]
  },
  {
   "cell_type": "code",
   "execution_count": 16,
   "metadata": {},
   "outputs": [
    {
     "name": "stdout",
     "output_type": "stream",
     "text": [
      "Epoch 1/40\n",
      "938/938 [==============================] - 75s 77ms/step - loss: 101.8155 - accuracy: 0.1984 - val_loss: 2.2758 - val_accuracy: 0.3115\n",
      "Epoch 2/40\n",
      "938/938 [==============================] - 72s 76ms/step - loss: 1.3458 - accuracy: 0.6065 - val_loss: 2.4322 - val_accuracy: 0.3715\n",
      "Epoch 3/40\n",
      "938/938 [==============================] - 72s 77ms/step - loss: 0.5305 - accuracy: 0.8618 - val_loss: 2.9519 - val_accuracy: 0.3965\n",
      "Epoch 4/40\n",
      "938/938 [==============================] - 72s 77ms/step - loss: 0.1746 - accuracy: 0.9619 - val_loss: 4.0812 - val_accuracy: 0.3965\n",
      "Epoch 5/40\n",
      "938/938 [==============================] - 73s 77ms/step - loss: 0.1118 - accuracy: 0.9770 - val_loss: 4.3354 - val_accuracy: 0.3875\n",
      "Epoch 6/40\n",
      "327/938 [=========>....................] - ETA: 45s - loss: 0.0510 - accuracy: 0.9895"
     ]
    },
    {
     "ename": "KeyboardInterrupt",
     "evalue": "",
     "output_type": "error",
     "traceback": [
      "\u001b[1;31m---------------------------------------------------------------------------\u001b[0m",
      "\u001b[1;31mKeyboardInterrupt\u001b[0m                         Traceback (most recent call last)",
      "Cell \u001b[1;32mIn[16], line 2\u001b[0m\n\u001b[0;32m      1\u001b[0m \u001b[39m#zadziala jak wrzuce obrazki\u001b[39;00m\n\u001b[1;32m----> 2\u001b[0m model\u001b[39m.\u001b[39;49mfit(x\u001b[39m=\u001b[39;49mtrain_gen, epochs\u001b[39m=\u001b[39;49m\u001b[39m40\u001b[39;49m, validation_data\u001b[39m=\u001b[39;49m(val_gen),validation_steps\u001b[39m=\u001b[39;49m \u001b[39mNone\u001b[39;49;00m, shuffle\u001b[39m=\u001b[39;49m\u001b[39mTrue\u001b[39;49;00m)\n",
      "File \u001b[1;32mc:\\Users\\Zuza\\.conda\\envs\\tensorflow-g\\lib\\site-packages\\keras\\utils\\traceback_utils.py:65\u001b[0m, in \u001b[0;36mfilter_traceback.<locals>.error_handler\u001b[1;34m(*args, **kwargs)\u001b[0m\n\u001b[0;32m     63\u001b[0m filtered_tb \u001b[39m=\u001b[39m \u001b[39mNone\u001b[39;00m\n\u001b[0;32m     64\u001b[0m \u001b[39mtry\u001b[39;00m:\n\u001b[1;32m---> 65\u001b[0m     \u001b[39mreturn\u001b[39;00m fn(\u001b[39m*\u001b[39margs, \u001b[39m*\u001b[39m\u001b[39m*\u001b[39mkwargs)\n\u001b[0;32m     66\u001b[0m \u001b[39mexcept\u001b[39;00m \u001b[39mException\u001b[39;00m \u001b[39mas\u001b[39;00m e:\n\u001b[0;32m     67\u001b[0m     filtered_tb \u001b[39m=\u001b[39m _process_traceback_frames(e\u001b[39m.\u001b[39m__traceback__)\n",
      "File \u001b[1;32mc:\\Users\\Zuza\\.conda\\envs\\tensorflow-g\\lib\\site-packages\\keras\\engine\\training.py:1564\u001b[0m, in \u001b[0;36mModel.fit\u001b[1;34m(self, x, y, batch_size, epochs, verbose, callbacks, validation_split, validation_data, shuffle, class_weight, sample_weight, initial_epoch, steps_per_epoch, validation_steps, validation_batch_size, validation_freq, max_queue_size, workers, use_multiprocessing)\u001b[0m\n\u001b[0;32m   1556\u001b[0m \u001b[39mwith\u001b[39;00m tf\u001b[39m.\u001b[39mprofiler\u001b[39m.\u001b[39mexperimental\u001b[39m.\u001b[39mTrace(\n\u001b[0;32m   1557\u001b[0m     \u001b[39m\"\u001b[39m\u001b[39mtrain\u001b[39m\u001b[39m\"\u001b[39m,\n\u001b[0;32m   1558\u001b[0m     epoch_num\u001b[39m=\u001b[39mepoch,\n\u001b[1;32m   (...)\u001b[0m\n\u001b[0;32m   1561\u001b[0m     _r\u001b[39m=\u001b[39m\u001b[39m1\u001b[39m,\n\u001b[0;32m   1562\u001b[0m ):\n\u001b[0;32m   1563\u001b[0m     callbacks\u001b[39m.\u001b[39mon_train_batch_begin(step)\n\u001b[1;32m-> 1564\u001b[0m     tmp_logs \u001b[39m=\u001b[39m \u001b[39mself\u001b[39;49m\u001b[39m.\u001b[39;49mtrain_function(iterator)\n\u001b[0;32m   1565\u001b[0m     \u001b[39mif\u001b[39;00m data_handler\u001b[39m.\u001b[39mshould_sync:\n\u001b[0;32m   1566\u001b[0m         context\u001b[39m.\u001b[39masync_wait()\n",
      "File \u001b[1;32mc:\\Users\\Zuza\\.conda\\envs\\tensorflow-g\\lib\\site-packages\\tensorflow\\python\\util\\traceback_utils.py:150\u001b[0m, in \u001b[0;36mfilter_traceback.<locals>.error_handler\u001b[1;34m(*args, **kwargs)\u001b[0m\n\u001b[0;32m    148\u001b[0m filtered_tb \u001b[39m=\u001b[39m \u001b[39mNone\u001b[39;00m\n\u001b[0;32m    149\u001b[0m \u001b[39mtry\u001b[39;00m:\n\u001b[1;32m--> 150\u001b[0m   \u001b[39mreturn\u001b[39;00m fn(\u001b[39m*\u001b[39margs, \u001b[39m*\u001b[39m\u001b[39m*\u001b[39mkwargs)\n\u001b[0;32m    151\u001b[0m \u001b[39mexcept\u001b[39;00m \u001b[39mException\u001b[39;00m \u001b[39mas\u001b[39;00m e:\n\u001b[0;32m    152\u001b[0m   filtered_tb \u001b[39m=\u001b[39m _process_traceback_frames(e\u001b[39m.\u001b[39m__traceback__)\n",
      "File \u001b[1;32mc:\\Users\\Zuza\\.conda\\envs\\tensorflow-g\\lib\\site-packages\\tensorflow\\python\\eager\\def_function.py:915\u001b[0m, in \u001b[0;36mFunction.__call__\u001b[1;34m(self, *args, **kwds)\u001b[0m\n\u001b[0;32m    912\u001b[0m compiler \u001b[39m=\u001b[39m \u001b[39m\"\u001b[39m\u001b[39mxla\u001b[39m\u001b[39m\"\u001b[39m \u001b[39mif\u001b[39;00m \u001b[39mself\u001b[39m\u001b[39m.\u001b[39m_jit_compile \u001b[39melse\u001b[39;00m \u001b[39m\"\u001b[39m\u001b[39mnonXla\u001b[39m\u001b[39m\"\u001b[39m\n\u001b[0;32m    914\u001b[0m \u001b[39mwith\u001b[39;00m OptionalXlaContext(\u001b[39mself\u001b[39m\u001b[39m.\u001b[39m_jit_compile):\n\u001b[1;32m--> 915\u001b[0m   result \u001b[39m=\u001b[39m \u001b[39mself\u001b[39m\u001b[39m.\u001b[39m_call(\u001b[39m*\u001b[39margs, \u001b[39m*\u001b[39m\u001b[39m*\u001b[39mkwds)\n\u001b[0;32m    917\u001b[0m new_tracing_count \u001b[39m=\u001b[39m \u001b[39mself\u001b[39m\u001b[39m.\u001b[39mexperimental_get_tracing_count()\n\u001b[0;32m    918\u001b[0m without_tracing \u001b[39m=\u001b[39m (tracing_count \u001b[39m==\u001b[39m new_tracing_count)\n",
      "File \u001b[1;32mc:\\Users\\Zuza\\.conda\\envs\\tensorflow-g\\lib\\site-packages\\tensorflow\\python\\eager\\def_function.py:947\u001b[0m, in \u001b[0;36mFunction._call\u001b[1;34m(self, *args, **kwds)\u001b[0m\n\u001b[0;32m    944\u001b[0m   \u001b[39mself\u001b[39m\u001b[39m.\u001b[39m_lock\u001b[39m.\u001b[39mrelease()\n\u001b[0;32m    945\u001b[0m   \u001b[39m# In this case we have created variables on the first call, so we run the\u001b[39;00m\n\u001b[0;32m    946\u001b[0m   \u001b[39m# defunned version which is guaranteed to never create variables.\u001b[39;00m\n\u001b[1;32m--> 947\u001b[0m   \u001b[39mreturn\u001b[39;00m \u001b[39mself\u001b[39m\u001b[39m.\u001b[39m_stateless_fn(\u001b[39m*\u001b[39margs, \u001b[39m*\u001b[39m\u001b[39m*\u001b[39mkwds)  \u001b[39m# pylint: disable=not-callable\u001b[39;00m\n\u001b[0;32m    948\u001b[0m \u001b[39melif\u001b[39;00m \u001b[39mself\u001b[39m\u001b[39m.\u001b[39m_stateful_fn \u001b[39mis\u001b[39;00m \u001b[39mnot\u001b[39;00m \u001b[39mNone\u001b[39;00m:\n\u001b[0;32m    949\u001b[0m   \u001b[39m# Release the lock early so that multiple threads can perform the call\u001b[39;00m\n\u001b[0;32m    950\u001b[0m   \u001b[39m# in parallel.\u001b[39;00m\n\u001b[0;32m    951\u001b[0m   \u001b[39mself\u001b[39m\u001b[39m.\u001b[39m_lock\u001b[39m.\u001b[39mrelease()\n",
      "File \u001b[1;32mc:\\Users\\Zuza\\.conda\\envs\\tensorflow-g\\lib\\site-packages\\tensorflow\\python\\eager\\function.py:2496\u001b[0m, in \u001b[0;36mFunction.__call__\u001b[1;34m(self, *args, **kwargs)\u001b[0m\n\u001b[0;32m   2493\u001b[0m \u001b[39mwith\u001b[39;00m \u001b[39mself\u001b[39m\u001b[39m.\u001b[39m_lock:\n\u001b[0;32m   2494\u001b[0m   (graph_function,\n\u001b[0;32m   2495\u001b[0m    filtered_flat_args) \u001b[39m=\u001b[39m \u001b[39mself\u001b[39m\u001b[39m.\u001b[39m_maybe_define_function(args, kwargs)\n\u001b[1;32m-> 2496\u001b[0m \u001b[39mreturn\u001b[39;00m graph_function\u001b[39m.\u001b[39;49m_call_flat(\n\u001b[0;32m   2497\u001b[0m     filtered_flat_args, captured_inputs\u001b[39m=\u001b[39;49mgraph_function\u001b[39m.\u001b[39;49mcaptured_inputs)\n",
      "File \u001b[1;32mc:\\Users\\Zuza\\.conda\\envs\\tensorflow-g\\lib\\site-packages\\tensorflow\\python\\eager\\function.py:1862\u001b[0m, in \u001b[0;36mConcreteFunction._call_flat\u001b[1;34m(self, args, captured_inputs, cancellation_manager)\u001b[0m\n\u001b[0;32m   1858\u001b[0m possible_gradient_type \u001b[39m=\u001b[39m gradients_util\u001b[39m.\u001b[39mPossibleTapeGradientTypes(args)\n\u001b[0;32m   1859\u001b[0m \u001b[39mif\u001b[39;00m (possible_gradient_type \u001b[39m==\u001b[39m gradients_util\u001b[39m.\u001b[39mPOSSIBLE_GRADIENT_TYPES_NONE\n\u001b[0;32m   1860\u001b[0m     \u001b[39mand\u001b[39;00m executing_eagerly):\n\u001b[0;32m   1861\u001b[0m   \u001b[39m# No tape is watching; skip to running the function.\u001b[39;00m\n\u001b[1;32m-> 1862\u001b[0m   \u001b[39mreturn\u001b[39;00m \u001b[39mself\u001b[39m\u001b[39m.\u001b[39m_build_call_outputs(\u001b[39mself\u001b[39;49m\u001b[39m.\u001b[39;49m_inference_function\u001b[39m.\u001b[39;49mcall(\n\u001b[0;32m   1863\u001b[0m       ctx, args, cancellation_manager\u001b[39m=\u001b[39;49mcancellation_manager))\n\u001b[0;32m   1864\u001b[0m forward_backward \u001b[39m=\u001b[39m \u001b[39mself\u001b[39m\u001b[39m.\u001b[39m_select_forward_and_backward_functions(\n\u001b[0;32m   1865\u001b[0m     args,\n\u001b[0;32m   1866\u001b[0m     possible_gradient_type,\n\u001b[0;32m   1867\u001b[0m     executing_eagerly)\n\u001b[0;32m   1868\u001b[0m forward_function, args_with_tangents \u001b[39m=\u001b[39m forward_backward\u001b[39m.\u001b[39mforward()\n",
      "File \u001b[1;32mc:\\Users\\Zuza\\.conda\\envs\\tensorflow-g\\lib\\site-packages\\tensorflow\\python\\eager\\function.py:499\u001b[0m, in \u001b[0;36m_EagerDefinedFunction.call\u001b[1;34m(self, ctx, args, cancellation_manager)\u001b[0m\n\u001b[0;32m    497\u001b[0m \u001b[39mwith\u001b[39;00m _InterpolateFunctionError(\u001b[39mself\u001b[39m):\n\u001b[0;32m    498\u001b[0m   \u001b[39mif\u001b[39;00m cancellation_manager \u001b[39mis\u001b[39;00m \u001b[39mNone\u001b[39;00m:\n\u001b[1;32m--> 499\u001b[0m     outputs \u001b[39m=\u001b[39m execute\u001b[39m.\u001b[39;49mexecute(\n\u001b[0;32m    500\u001b[0m         \u001b[39mstr\u001b[39;49m(\u001b[39mself\u001b[39;49m\u001b[39m.\u001b[39;49msignature\u001b[39m.\u001b[39;49mname),\n\u001b[0;32m    501\u001b[0m         num_outputs\u001b[39m=\u001b[39;49m\u001b[39mself\u001b[39;49m\u001b[39m.\u001b[39;49m_num_outputs,\n\u001b[0;32m    502\u001b[0m         inputs\u001b[39m=\u001b[39;49margs,\n\u001b[0;32m    503\u001b[0m         attrs\u001b[39m=\u001b[39;49mattrs,\n\u001b[0;32m    504\u001b[0m         ctx\u001b[39m=\u001b[39;49mctx)\n\u001b[0;32m    505\u001b[0m   \u001b[39melse\u001b[39;00m:\n\u001b[0;32m    506\u001b[0m     outputs \u001b[39m=\u001b[39m execute\u001b[39m.\u001b[39mexecute_with_cancellation(\n\u001b[0;32m    507\u001b[0m         \u001b[39mstr\u001b[39m(\u001b[39mself\u001b[39m\u001b[39m.\u001b[39msignature\u001b[39m.\u001b[39mname),\n\u001b[0;32m    508\u001b[0m         num_outputs\u001b[39m=\u001b[39m\u001b[39mself\u001b[39m\u001b[39m.\u001b[39m_num_outputs,\n\u001b[1;32m   (...)\u001b[0m\n\u001b[0;32m    511\u001b[0m         ctx\u001b[39m=\u001b[39mctx,\n\u001b[0;32m    512\u001b[0m         cancellation_manager\u001b[39m=\u001b[39mcancellation_manager)\n",
      "File \u001b[1;32mc:\\Users\\Zuza\\.conda\\envs\\tensorflow-g\\lib\\site-packages\\tensorflow\\python\\eager\\execute.py:54\u001b[0m, in \u001b[0;36mquick_execute\u001b[1;34m(op_name, num_outputs, inputs, attrs, ctx, name)\u001b[0m\n\u001b[0;32m     52\u001b[0m \u001b[39mtry\u001b[39;00m:\n\u001b[0;32m     53\u001b[0m   ctx\u001b[39m.\u001b[39mensure_initialized()\n\u001b[1;32m---> 54\u001b[0m   tensors \u001b[39m=\u001b[39m pywrap_tfe\u001b[39m.\u001b[39;49mTFE_Py_Execute(ctx\u001b[39m.\u001b[39;49m_handle, device_name, op_name,\n\u001b[0;32m     55\u001b[0m                                       inputs, attrs, num_outputs)\n\u001b[0;32m     56\u001b[0m \u001b[39mexcept\u001b[39;00m core\u001b[39m.\u001b[39m_NotOkStatusException \u001b[39mas\u001b[39;00m e:\n\u001b[0;32m     57\u001b[0m   \u001b[39mif\u001b[39;00m name \u001b[39mis\u001b[39;00m \u001b[39mnot\u001b[39;00m \u001b[39mNone\u001b[39;00m:\n",
      "\u001b[1;31mKeyboardInterrupt\u001b[0m: "
     ]
    }
   ],
   "source": [
    "#zadziala jak wrzuce obrazki\n",
    "model.fit(x=train_gen, epochs=10, validation_data=(val_gen),validation_steps= None, shuffle=True)"
   ]
  }
 ],
 "metadata": {
  "kernelspec": {
   "display_name": "Python 3",
   "language": "python",
   "name": "python3"
  },
  "language_info": {
   "codemirror_mode": {
    "name": "ipython",
    "version": 3
   },
   "file_extension": ".py",
   "mimetype": "text/x-python",
   "name": "python",
   "nbconvert_exporter": "python",
   "pygments_lexer": "ipython3",
   "version": "3.9.0"
  },
  "orig_nbformat": 4
 },
 "nbformat": 4,
 "nbformat_minor": 2
}
