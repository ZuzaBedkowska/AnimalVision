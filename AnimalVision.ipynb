{
 "cells": [
  {
   "attachments": {},
   "cell_type": "markdown",
   "metadata": {},
   "source": [
    "#### **Instalacja bibliotek**"
   ]
  },
  {
   "cell_type": "code",
   "execution_count": 1,
   "metadata": {},
   "outputs": [],
   "source": [
    "#tu rzeczy do instalacji, zaczynac od %\n",
    "#%pip install matplotlib\n",
    "#%pip install pandas\n",
    "#tu sklearn, możliwe że trzeba zrestartowac krenel po updacie\n",
    "#%pip install -U scikit-learn\n",
    "#%pip install scipy"
   ]
  },
  {
   "attachments": {},
   "cell_type": "markdown",
   "metadata": {},
   "source": [
    "#### **Importy**"
   ]
  },
  {
   "cell_type": "code",
   "execution_count": 2,
   "metadata": {},
   "outputs": [
    {
     "name": "stdout",
     "output_type": "stream",
     "text": [
      "Num GPUs Available:  1\n",
      "Import done\n"
     ]
    }
   ],
   "source": [
    "#tu biblioteki\n",
    "import numpy as np\n",
    "import time\n",
    "from tensorflow.keras.preprocessing.image import ImageDataGenerator\n",
    "from tensorflow.keras.models import Sequential\n",
    "from tensorflow.keras.layers import Conv2D, Dense, Flatten, MaxPool2D, Dropout, BatchNormalization\n",
    "from tensorflow.keras.optimizers import Adam, Adamax\n",
    "from tensorflow.keras import regularizers\n",
    "from matplotlib import pyplot as plt\n",
    "from sklearn.metrics import roc_curve, auc, accuracy_score\n",
    "import tensorflow as tf\n",
    "\n",
    "print(\"Num GPUs Available: \", len(tf.config.list_physical_devices('GPU')))\n",
    "\n",
    "print(\"Import done\")"
   ]
  },
  {
   "attachments": {},
   "cell_type": "markdown",
   "metadata": {},
   "source": [
    "#### **Przeniesienie obliczeń na GPU**"
   ]
  },
  {
   "cell_type": "code",
   "execution_count": 3,
   "metadata": {},
   "outputs": [
    {
     "name": "stdout",
     "output_type": "stream",
     "text": [
      "1  GPUs found!\n",
      "1  Physical GPUs,  1  Logical GPUs\n",
      "GPUs done\n"
     ]
    }
   ],
   "source": [
    "#GPUs - tu poki co nie dziala, trzeba postawic srodowisko wirtualne\n",
    "gpus = tf.config.experimental.list_physical_devices('GPU')\n",
    "print (len(gpus), \" GPUs found!\")\n",
    "if gpus:\n",
    "    try:\n",
    "        for gpu in gpus:\n",
    "            tf.config.experimental.set_memory_growth(gpu, True)\n",
    "        logical_gpus = tf.config.experimental.list_logical_devices('GPU')\n",
    "        print(len(gpus), \" Physical GPUs, \", len(logical_gpus), \" Logical GPUs\")\n",
    "    except RuntimeError as e:\n",
    "        print(e)\n",
    "print(\"GPUs done\")"
   ]
  },
  {
   "attachments": {},
   "cell_type": "markdown",
   "metadata": {},
   "source": [
    "#### **Wczytanie obrazków**"
   ]
  },
  {
   "cell_type": "code",
   "execution_count": 4,
   "metadata": {},
   "outputs": [],
   "source": [
    "def directory_flow(train_directory, val_directory, shape):\n",
    "    #directory = nazwy folderow,\n",
    "    #shape = rozmiar obrazka, u nas 256x256\n",
    "    print (\"generators start\")\n",
    "    image_generator=ImageDataGenerator()\n",
    "    train_gen = image_generator.flow_from_directory(train_directory, target_size=shape, shuffle=True) #sciezka do train dir\n",
    "    print (\"train done\")\n",
    "    val_gen = image_generator.flow_from_directory(val_directory, target_size=shape, shuffle=True)\n",
    "    print (\"validate done\")\n",
    "    print (\"generators done\")\n",
    "    #zastanowic sie nad zwracaniem validate gen\n",
    "    return train_gen, val_gen"
   ]
  },
  {
   "cell_type": "code",
   "execution_count": 5,
   "metadata": {},
   "outputs": [
    {
     "name": "stdout",
     "output_type": "stream",
     "text": [
      "generators start\n",
      "Found 30000 images belonging to 15 classes.\n",
      "train done\n",
      "Found 2000 images belonging to 15 classes.\n",
      "validate done\n",
      "generators done\n",
      "Directory flow done!\n"
     ]
    }
   ],
   "source": [
    "#nie zadziala, bo jeszcze nie ma obrazkow\n",
    "train_gen, val_gen = directory_flow(\"./archive/TrainingData\", \"./archive/ValidationData\", (256, 256))\n",
    "print(\"Directory flow done!\")"
   ]
  },
  {
   "attachments": {},
   "cell_type": "markdown",
   "metadata": {},
   "source": [
    "#### **Wstępna analiza danych**"
   ]
  },
  {
   "cell_type": "code",
   "execution_count": 6,
   "metadata": {},
   "outputs": [],
   "source": [
    "# Do analizy danych\n",
    "#labels = kategorie (rodzaje zwierzatek)\n",
    "def plot_label_count(df, plot_title):\n",
    "    '''\n",
    "    This function take df and plot labels value counts\n",
    "    '''\n",
    "\n",
    "    # Define needed variables\n",
    "    vcounts = df['labels'].value_counts()\n",
    "    labels = vcounts.keys().tolist()\n",
    "    values = vcounts.tolist()\n",
    "    lcount = len(labels)\n",
    "\n",
    "    if lcount > 55:\n",
    "        print('The number of labels is > 55, no plot will be produced')\n",
    "\n",
    "    else:\n",
    "        plot_labels(lcount, labels, values, plot_title)\n",
    "\n",
    "def plot_labels(lcount, labels, values, plot_title):\n",
    "    width = lcount * 4\n",
    "    width = np.min([width, 20])\n",
    "\n",
    "    plt.figure(figsize= (width, 5))\n",
    "\n",
    "    form = {'family': 'serif', 'color': 'blue', 'size': 25}\n",
    "    sns.barplot(x=labels, y=values)\n",
    "    plt.title(f'Images per Label in {plot_title} data', fontsize= 24, color= 'blue')\n",
    "    plt.xticks(rotation= 90, fontsize= 18)\n",
    "    plt.yticks(fontsize= 18)\n",
    "    plt.xlabel('CLASS', fontdict= form)\n",
    "    yaxis_label = 'IMAGE COUNT'\n",
    "    plt.ylabel(yaxis_label, fontdict= form)\n",
    "\n",
    "    rotation = 'vertical' if lcount >= 8 else 'horizontal'\n",
    "    for i in range(lcount):\n",
    "        plt.text(i, values[i] / 2, str(values[i]), fontsize= 12,\n",
    "                rotation= rotation, color= 'yellow', ha= 'center')\n",
    "\n",
    "    plt.show()"
   ]
  },
  {
   "cell_type": "code",
   "execution_count": 7,
   "metadata": {},
   "outputs": [],
   "source": [
    "#Do analizy danych = przykładowe obrazki\n",
    "def show_images(gen):\n",
    "    '''\n",
    "    This function take the data generator and show sample of the images\n",
    "    '''\n",
    "\n",
    "    # return classes , images to be displayed\n",
    "    g_dict = gen.class_indices        # defines dictionary {'class': index}\n",
    "    classes = list(g_dict.keys())     # defines list of dictionary's kays (classes), classes names : string\n",
    "    images, labels = next(gen)        # get a batch size samples from the generator\n",
    "\n",
    "    # calculate number of displayed samples\n",
    "    length = len(labels)        # length of batch size\n",
    "    sample = min(length, 25)    # check if sample less than 25 images\n",
    "\n",
    "    plt.figure(figsize= (20, 20))\n",
    "\n",
    "    for i in range(sample):\n",
    "        plt.subplot(5, 5, i + 1)\n",
    "        image = images[i] / 255       # scales data to range (0 - 255)\n",
    "        plt.imshow(image)\n",
    "        index = np.argmax(labels[i])  # get image index\n",
    "        class_name = classes[index]   # get class of image\n",
    "        plt.title(class_name, color= 'blue', fontsize= 12)\n",
    "        plt.axis('off')\n",
    "    plt.show()"
   ]
  },
  {
   "cell_type": "code",
   "execution_count": 8,
   "metadata": {},
   "outputs": [],
   "source": [
    "#analiza danych - zadziala jak zamiast train_gen i val_gen da się dataframy\n",
    "#pokaz ile obrazkow w kategorii\n",
    "\n",
    "#plot_label_count(train_gen, 'train')\n",
    "#plot_label_count(val_gen, 'validate')"
   ]
  },
  {
   "attachments": {},
   "cell_type": "markdown",
   "metadata": {},
   "source": [
    "#### **Modele**"
   ]
  },
  {
   "cell_type": "code",
   "execution_count": 9,
   "metadata": {},
   "outputs": [
    {
     "name": "stdout",
     "output_type": "stream",
     "text": [
      "Model done!\n"
     ]
    }
   ],
   "source": [
    "#model madry - xception trenowany wstepnie(weights = imagenet)\n",
    "def make_smart_xception_pretrained_model(shape):\n",
    "    #te rzeczy w nawiasie zapobiegna przetrenowaniu\n",
    "    base_model = tf.keras.applications.xception.Xception(include_top=False, weights=\"imagenet\",input_shape=shape, pooling='max')\n",
    "    model = Sequential([\n",
    "        base_model,\n",
    "        Dense(15, activation= 'softmax')\n",
    "        ])\n",
    "    #ograniczenie warstw zapobiegnie przetrenowaniu\n",
    "    model.compile(Adamax(learning_rate= 0.001), loss= 'categorical_crossentropy', metrics= ['accuracy'])\n",
    "    return model\n",
    "print(\"Model done!\")"
   ]
  },
  {
   "cell_type": "code",
   "execution_count": 10,
   "metadata": {},
   "outputs": [
    {
     "name": "stdout",
     "output_type": "stream",
     "text": [
      "Model done!\n"
     ]
    }
   ],
   "source": [
    "#model glupi - tylko na xception, nie trenowany wstepnie bo weights=none\n",
    "def make_dumb_xception_non_pretrained_model(shape):\n",
    "    base_model = tf.keras.applications.xception.Xception(include_top=True, weights=None,input_shape=shape, pooling='max', classes=15)\n",
    "    base_model.compile(Adamax(learning_rate= 0.001), loss= 'categorical_crossentropy', metrics= ['accuracy'])\n",
    "    return base_model\n",
    "print(\"Model done!\")"
   ]
  },
  {
   "cell_type": "code",
   "execution_count": 11,
   "metadata": {},
   "outputs": [
    {
     "name": "stdout",
     "output_type": "stream",
     "text": [
      "Model done!\n"
     ]
    }
   ],
   "source": [
    "#model glupi - taki jak na zajeciach, ale najwiecej warstw\n",
    "def make_dumb_the_biggest_classic_model(shape):\n",
    "    model = Sequential()\n",
    "    model.add(Conv2D(kernel_size=(3,3), filters = 3, activation=\"relu\", input_shape = shape))\n",
    "    model.add(Conv2D(kernel_size=(3,3), filters = 3, activation=\"relu\"))\n",
    "    model.add(Conv2D(kernel_size=(3,3), filters = 3, activation=\"relu\"))\n",
    "    model.add(Conv2D(kernel_size=(3,3), filters = 3, activation=\"relu\"))\n",
    "    model.add(Conv2D(kernel_size=(3,3), filters = 3, activation=\"relu\"))\n",
    "    model.add(Conv2D(kernel_size=(3,3), filters = 3, activation=\"relu\"))\n",
    "    model.add(Conv2D(kernel_size=(3,3), filters = 3, activation=\"relu\"))\n",
    "    model.add(Conv2D(kernel_size=(3,3), filters = 3, activation=\"relu\"))\n",
    "    model.add(Conv2D(kernel_size=(3,3), filters = 3, activation=\"relu\"))\n",
    "    model.add(Conv2D(kernel_size=(3,3), filters = 3, activation=\"relu\"))\n",
    "    model.add(Conv2D(kernel_size=(3,3), filters = 3, activation=\"relu\"))\n",
    "    model.add(Conv2D(kernel_size=(3,3), filters = 3, activation=\"relu\"))\n",
    "    model.add(Conv2D(kernel_size=(3,3), filters = 3, activation=\"relu\"))\n",
    "    model.add(Conv2D(kernel_size=(3,3), filters = 3, activation=\"relu\"))\n",
    "    model.add(Conv2D(kernel_size=(3,3), filters = 3, activation=\"relu\"))\n",
    "    model.add(Conv2D(kernel_size=(3,3), filters = 3, activation=\"relu\"))\n",
    "    model.add(Conv2D(kernel_size=(3,3), filters = 3, activation=\"relu\"))\n",
    "    model.add(Conv2D(kernel_size=(3,3), filters = 3, activation=\"relu\"))\n",
    "    model.add(Conv2D(kernel_size=(3,3), filters = 3, activation=\"relu\"))\n",
    "    model.add(Conv2D(kernel_size=(3,3), filters = 3, activation=\"relu\"))\n",
    "    model.add(Conv2D(kernel_size=(3,3), filters = 3, activation=\"relu\"))\n",
    "    model.add(Conv2D(kernel_size=(3,3), filters = 3, activation=\"relu\"))\n",
    "    model.add(Conv2D(kernel_size=(3,3), filters = 3, activation=\"relu\"))\n",
    "    model.add(Conv2D(kernel_size=(3,3), filters = 3, activation=\"relu\"))\n",
    "    model.add(Conv2D(kernel_size=(3,3), filters = 3, activation=\"relu\"))\n",
    "    model.add(Flatten())\n",
    "    model.add(Dense(15, activation=\"softmax\"))\n",
    "    model.compile(Adamax(learning_rate= 0.001), loss= 'categorical_crossentropy', metrics= ['accuracy'])\n",
    "    return model\n",
    "print(\"Model done!\")"
   ]
  },
  {
   "cell_type": "code",
   "execution_count": 12,
   "metadata": {},
   "outputs": [
    {
     "name": "stdout",
     "output_type": "stream",
     "text": [
      "Model done!\n"
     ]
    }
   ],
   "source": [
    "#model glupi - taki jak na zajeciach, ale wiecej warstw\n",
    "def make_dumb_bigger_classic_model(shape):\n",
    "    model = Sequential()\n",
    "    model.add(Conv2D(kernel_size=(3,3), filters = 3, activation=\"relu\", input_shape = shape))\n",
    "    model.add(Conv2D(kernel_size=(3,3), filters = 3, activation=\"relu\"))\n",
    "    model.add(Conv2D(kernel_size=(3,3), filters = 3, activation=\"relu\"))\n",
    "    model.add(Conv2D(kernel_size=(3,3), filters = 3, activation=\"relu\"))\n",
    "    model.add(Conv2D(kernel_size=(3,3), filters = 3, activation=\"relu\"))\n",
    "    model.add(Conv2D(kernel_size=(3,3), filters = 3, activation=\"relu\"))\n",
    "    model.add(Conv2D(kernel_size=(3,3), filters = 3, activation=\"relu\"))\n",
    "    model.add(Conv2D(kernel_size=(3,3), filters = 3, activation=\"relu\"))\n",
    "    model.add(Conv2D(kernel_size=(3,3), filters = 3, activation=\"relu\"))\n",
    "    model.add(Conv2D(kernel_size=(3,3), filters = 3, activation=\"relu\"))\n",
    "    model.add(Conv2D(kernel_size=(3,3), filters = 3, activation=\"relu\"))\n",
    "    model.add(Conv2D(kernel_size=(3,3), filters = 3, activation=\"relu\"))\n",
    "    model.add(Conv2D(kernel_size=(3,3), filters = 3, activation=\"relu\"))\n",
    "    model.add(Flatten())\n",
    "    model.add(Dense(15, activation=\"softmax\"))\n",
    "    model.compile(Adamax(learning_rate= 0.001), loss= 'categorical_crossentropy', metrics= ['accuracy'])\n",
    "    return model\n",
    "print(\"Model done!\")\n"
   ]
  },
  {
   "cell_type": "code",
   "execution_count": 13,
   "metadata": {},
   "outputs": [
    {
     "name": "stdout",
     "output_type": "stream",
     "text": [
      "Model done!\n"
     ]
    }
   ],
   "source": [
    "#model glupi - taki jak na zajeciach\n",
    "def make_dumb_classic_model(shape):\n",
    "    model = Sequential()\n",
    "    model.add(Conv2D(kernel_size=(3,3), filters = 3, activation=\"relu\", input_shape = shape))\n",
    "    model.add(Conv2D(kernel_size=(3,3), filters = 3, activation=\"relu\"))\n",
    "    model.add(Conv2D(kernel_size=(3,3), filters = 3, activation=\"relu\"))\n",
    "    model.add(Conv2D(kernel_size=(3,3), filters = 3, activation=\"relu\"))\n",
    "    model.add(Conv2D(kernel_size=(3,3), filters = 3, activation=\"relu\"))\n",
    "    model.add(Flatten())\n",
    "    model.add(Dense(256, activation=\"relu\"))\n",
    "    model.add(Dense(15, activation=\"softmax\"))\n",
    "    model.compile(Adamax(learning_rate= 0.001), loss= 'categorical_crossentropy', metrics= ['accuracy'])\n",
    "    return model\n",
    "print(\"Model done!\")"
   ]
  },
  {
   "attachments": {},
   "cell_type": "markdown",
   "metadata": {},
   "source": [
    "#### **Utworzenie modelu i rozpoczęcie treningu**"
   ]
  },
  {
   "cell_type": "code",
   "execution_count": 14,
   "metadata": {},
   "outputs": [
    {
     "name": "stdout",
     "output_type": "stream",
     "text": [
      "Model generated\n"
     ]
    }
   ],
   "source": [
    "#model = make_dumb_classic_model((256, 256, 3))\n",
    "#model = make_dumb_bigger_classic_model((256, 256, 3))\n",
    "#model = make_dumb_the_biggest_classic_model((256, 256, 3))\n",
    "#model = make_dumb_xception_non_pretrained_model((256,256,3))\n",
    "model = make_smart_xception_pretrained_model((256, 256, 3))\n",
    "\n",
    "print(\"Model generated\")"
   ]
  },
  {
   "cell_type": "code",
   "execution_count": 15,
   "metadata": {},
   "outputs": [
    {
     "name": "stdout",
     "output_type": "stream",
     "text": [
      "Model: \"sequential\"\n",
      "_________________________________________________________________\n",
      " Layer (type)                Output Shape              Param #   \n",
      "=================================================================\n",
      " xception (Functional)       (None, 2048)              20861480  \n",
      "                                                                 \n",
      " dense (Dense)               (None, 15)                30735     \n",
      "                                                                 \n",
      "=================================================================\n",
      "Total params: 20,892,215\n",
      "Trainable params: 20,837,687\n",
      "Non-trainable params: 54,528\n",
      "_________________________________________________________________\n"
     ]
    }
   ],
   "source": [
    "model.summary()"
   ]
  },
  {
   "cell_type": "code",
   "execution_count": 16,
   "metadata": {},
   "outputs": [
    {
     "name": "stdout",
     "output_type": "stream",
     "text": [
      "Epoch 1/10\n"
     ]
    },
    {
     "ename": "ResourceExhaustedError",
     "evalue": "Graph execution error:\n\nDetected at node 'sequential/xception/block2_sepconv1_bn/FusedBatchNormV3' defined at (most recent call last):\n    File \"c:\\Users\\Zuza\\.conda\\envs\\tensorflow-g\\lib\\runpy.py\", line 197, in _run_module_as_main\n      return _run_code(code, main_globals, None,\n    File \"c:\\Users\\Zuza\\.conda\\envs\\tensorflow-g\\lib\\runpy.py\", line 87, in _run_code\n      exec(code, run_globals)\n    File \"c:\\Users\\Zuza\\.conda\\envs\\tensorflow-g\\lib\\site-packages\\ipykernel_launcher.py\", line 17, in <module>\n      app.launch_new_instance()\n    File \"c:\\Users\\Zuza\\.conda\\envs\\tensorflow-g\\lib\\site-packages\\traitlets\\config\\application.py\", line 992, in launch_instance\n      app.start()\n    File \"c:\\Users\\Zuza\\.conda\\envs\\tensorflow-g\\lib\\site-packages\\ipykernel\\kernelapp.py\", line 711, in start\n      self.io_loop.start()\n    File \"c:\\Users\\Zuza\\.conda\\envs\\tensorflow-g\\lib\\site-packages\\tornado\\platform\\asyncio.py\", line 215, in start\n      self.asyncio_loop.run_forever()\n    File \"c:\\Users\\Zuza\\.conda\\envs\\tensorflow-g\\lib\\asyncio\\base_events.py\", line 596, in run_forever\n      self._run_once()\n    File \"c:\\Users\\Zuza\\.conda\\envs\\tensorflow-g\\lib\\asyncio\\base_events.py\", line 1890, in _run_once\n      handle._run()\n    File \"c:\\Users\\Zuza\\.conda\\envs\\tensorflow-g\\lib\\asyncio\\events.py\", line 80, in _run\n      self._context.run(self._callback, *self._args)\n    File \"c:\\Users\\Zuza\\.conda\\envs\\tensorflow-g\\lib\\site-packages\\ipykernel\\kernelbase.py\", line 510, in dispatch_queue\n      await self.process_one()\n    File \"c:\\Users\\Zuza\\.conda\\envs\\tensorflow-g\\lib\\site-packages\\ipykernel\\kernelbase.py\", line 499, in process_one\n      await dispatch(*args)\n    File \"c:\\Users\\Zuza\\.conda\\envs\\tensorflow-g\\lib\\site-packages\\ipykernel\\kernelbase.py\", line 406, in dispatch_shell\n      await result\n    File \"c:\\Users\\Zuza\\.conda\\envs\\tensorflow-g\\lib\\site-packages\\ipykernel\\kernelbase.py\", line 729, in execute_request\n      reply_content = await reply_content\n    File \"c:\\Users\\Zuza\\.conda\\envs\\tensorflow-g\\lib\\site-packages\\ipykernel\\ipkernel.py\", line 411, in do_execute\n      res = shell.run_cell(\n    File \"c:\\Users\\Zuza\\.conda\\envs\\tensorflow-g\\lib\\site-packages\\ipykernel\\zmqshell.py\", line 531, in run_cell\n      return super().run_cell(*args, **kwargs)\n    File \"c:\\Users\\Zuza\\.conda\\envs\\tensorflow-g\\lib\\site-packages\\IPython\\core\\interactiveshell.py\", line 3006, in run_cell\n      result = self._run_cell(\n    File \"c:\\Users\\Zuza\\.conda\\envs\\tensorflow-g\\lib\\site-packages\\IPython\\core\\interactiveshell.py\", line 3061, in _run_cell\n      result = runner(coro)\n    File \"c:\\Users\\Zuza\\.conda\\envs\\tensorflow-g\\lib\\site-packages\\IPython\\core\\async_helpers.py\", line 129, in _pseudo_sync_runner\n      coro.send(None)\n    File \"c:\\Users\\Zuza\\.conda\\envs\\tensorflow-g\\lib\\site-packages\\IPython\\core\\interactiveshell.py\", line 3266, in run_cell_async\n      has_raised = await self.run_ast_nodes(code_ast.body, cell_name,\n    File \"c:\\Users\\Zuza\\.conda\\envs\\tensorflow-g\\lib\\site-packages\\IPython\\core\\interactiveshell.py\", line 3445, in run_ast_nodes\n      if await self.run_code(code, result, async_=asy):\n    File \"c:\\Users\\Zuza\\.conda\\envs\\tensorflow-g\\lib\\site-packages\\IPython\\core\\interactiveshell.py\", line 3505, in run_code\n      exec(code_obj, self.user_global_ns, self.user_ns)\n    File \"C:\\Users\\Zuza\\AppData\\Local\\Temp\\ipykernel_19056\\2864241074.py\", line 2, in <module>\n      model.fit(x=train_gen, epochs=10, validation_data=(val_gen),validation_steps= None, shuffle=True)\n    File \"c:\\Users\\Zuza\\.conda\\envs\\tensorflow-g\\lib\\site-packages\\keras\\utils\\traceback_utils.py\", line 65, in error_handler\n      return fn(*args, **kwargs)\n    File \"c:\\Users\\Zuza\\.conda\\envs\\tensorflow-g\\lib\\site-packages\\keras\\engine\\training.py\", line 1564, in fit\n      tmp_logs = self.train_function(iterator)\n    File \"c:\\Users\\Zuza\\.conda\\envs\\tensorflow-g\\lib\\site-packages\\keras\\engine\\training.py\", line 1160, in train_function\n      return step_function(self, iterator)\n    File \"c:\\Users\\Zuza\\.conda\\envs\\tensorflow-g\\lib\\site-packages\\keras\\engine\\training.py\", line 1146, in step_function\n      outputs = model.distribute_strategy.run(run_step, args=(data,))\n    File \"c:\\Users\\Zuza\\.conda\\envs\\tensorflow-g\\lib\\site-packages\\keras\\engine\\training.py\", line 1135, in run_step\n      outputs = model.train_step(data)\n    File \"c:\\Users\\Zuza\\.conda\\envs\\tensorflow-g\\lib\\site-packages\\keras\\engine\\training.py\", line 993, in train_step\n      y_pred = self(x, training=True)\n    File \"c:\\Users\\Zuza\\.conda\\envs\\tensorflow-g\\lib\\site-packages\\keras\\utils\\traceback_utils.py\", line 65, in error_handler\n      return fn(*args, **kwargs)\n    File \"c:\\Users\\Zuza\\.conda\\envs\\tensorflow-g\\lib\\site-packages\\keras\\engine\\training.py\", line 557, in __call__\n      return super().__call__(*args, **kwargs)\n    File \"c:\\Users\\Zuza\\.conda\\envs\\tensorflow-g\\lib\\site-packages\\keras\\utils\\traceback_utils.py\", line 65, in error_handler\n      return fn(*args, **kwargs)\n    File \"c:\\Users\\Zuza\\.conda\\envs\\tensorflow-g\\lib\\site-packages\\keras\\engine\\base_layer.py\", line 1097, in __call__\n      outputs = call_fn(inputs, *args, **kwargs)\n    File \"c:\\Users\\Zuza\\.conda\\envs\\tensorflow-g\\lib\\site-packages\\keras\\utils\\traceback_utils.py\", line 96, in error_handler\n      return fn(*args, **kwargs)\n    File \"c:\\Users\\Zuza\\.conda\\envs\\tensorflow-g\\lib\\site-packages\\keras\\engine\\sequential.py\", line 410, in call\n      return super().call(inputs, training=training, mask=mask)\n    File \"c:\\Users\\Zuza\\.conda\\envs\\tensorflow-g\\lib\\site-packages\\keras\\engine\\functional.py\", line 510, in call\n      return self._run_internal_graph(inputs, training=training, mask=mask)\n    File \"c:\\Users\\Zuza\\.conda\\envs\\tensorflow-g\\lib\\site-packages\\keras\\engine\\functional.py\", line 667, in _run_internal_graph\n      outputs = node.layer(*args, **kwargs)\n    File \"c:\\Users\\Zuza\\.conda\\envs\\tensorflow-g\\lib\\site-packages\\keras\\utils\\traceback_utils.py\", line 65, in error_handler\n      return fn(*args, **kwargs)\n    File \"c:\\Users\\Zuza\\.conda\\envs\\tensorflow-g\\lib\\site-packages\\keras\\engine\\training.py\", line 557, in __call__\n      return super().__call__(*args, **kwargs)\n    File \"c:\\Users\\Zuza\\.conda\\envs\\tensorflow-g\\lib\\site-packages\\keras\\utils\\traceback_utils.py\", line 65, in error_handler\n      return fn(*args, **kwargs)\n    File \"c:\\Users\\Zuza\\.conda\\envs\\tensorflow-g\\lib\\site-packages\\keras\\engine\\base_layer.py\", line 1097, in __call__\n      outputs = call_fn(inputs, *args, **kwargs)\n    File \"c:\\Users\\Zuza\\.conda\\envs\\tensorflow-g\\lib\\site-packages\\keras\\utils\\traceback_utils.py\", line 96, in error_handler\n      return fn(*args, **kwargs)\n    File \"c:\\Users\\Zuza\\.conda\\envs\\tensorflow-g\\lib\\site-packages\\keras\\engine\\functional.py\", line 510, in call\n      return self._run_internal_graph(inputs, training=training, mask=mask)\n    File \"c:\\Users\\Zuza\\.conda\\envs\\tensorflow-g\\lib\\site-packages\\keras\\engine\\functional.py\", line 667, in _run_internal_graph\n      outputs = node.layer(*args, **kwargs)\n    File \"c:\\Users\\Zuza\\.conda\\envs\\tensorflow-g\\lib\\site-packages\\keras\\utils\\traceback_utils.py\", line 65, in error_handler\n      return fn(*args, **kwargs)\n    File \"c:\\Users\\Zuza\\.conda\\envs\\tensorflow-g\\lib\\site-packages\\keras\\engine\\base_layer.py\", line 1097, in __call__\n      outputs = call_fn(inputs, *args, **kwargs)\n    File \"c:\\Users\\Zuza\\.conda\\envs\\tensorflow-g\\lib\\site-packages\\keras\\utils\\traceback_utils.py\", line 96, in error_handler\n      return fn(*args, **kwargs)\n    File \"c:\\Users\\Zuza\\.conda\\envs\\tensorflow-g\\lib\\site-packages\\keras\\layers\\normalization\\batch_normalization.py\", line 850, in call\n      outputs = self._fused_batch_norm(inputs, training=training)\n    File \"c:\\Users\\Zuza\\.conda\\envs\\tensorflow-g\\lib\\site-packages\\keras\\layers\\normalization\\batch_normalization.py\", line 660, in _fused_batch_norm\n      output, mean, variance = control_flow_util.smart_cond(\n    File \"c:\\Users\\Zuza\\.conda\\envs\\tensorflow-g\\lib\\site-packages\\keras\\utils\\control_flow_util.py\", line 108, in smart_cond\n      return tf.__internal__.smart_cond.smart_cond(\n    File \"c:\\Users\\Zuza\\.conda\\envs\\tensorflow-g\\lib\\site-packages\\keras\\layers\\normalization\\batch_normalization.py\", line 634, in _fused_batch_norm_training\n      return tf.compat.v1.nn.fused_batch_norm(\nNode: 'sequential/xception/block2_sepconv1_bn/FusedBatchNormV3'\nOOM when allocating tensor with shape[32,128,125,125] and type float on /job:localhost/replica:0/task:0/device:GPU:0 by allocator GPU_0_bfc\n\t [[{{node sequential/xception/block2_sepconv1_bn/FusedBatchNormV3}}]]\nHint: If you want to see a list of allocated tensors when OOM happens, add report_tensor_allocations_upon_oom to RunOptions for current allocation info. This isn't available when running in Eager mode.\n [Op:__inference_train_function_11567]",
     "output_type": "error",
     "traceback": [
      "\u001b[1;31m---------------------------------------------------------------------------\u001b[0m",
      "\u001b[1;31mResourceExhaustedError\u001b[0m                    Traceback (most recent call last)",
      "Cell \u001b[1;32mIn[16], line 2\u001b[0m\n\u001b[0;32m      1\u001b[0m \u001b[39m#zadziala jak wrzuce obrazki\u001b[39;00m\n\u001b[1;32m----> 2\u001b[0m model\u001b[39m.\u001b[39;49mfit(x\u001b[39m=\u001b[39;49mtrain_gen, epochs\u001b[39m=\u001b[39;49m\u001b[39m10\u001b[39;49m, validation_data\u001b[39m=\u001b[39;49m(val_gen),validation_steps\u001b[39m=\u001b[39;49m \u001b[39mNone\u001b[39;49;00m, shuffle\u001b[39m=\u001b[39;49m\u001b[39mTrue\u001b[39;49;00m)\n",
      "File \u001b[1;32mc:\\Users\\Zuza\\.conda\\envs\\tensorflow-g\\lib\\site-packages\\keras\\utils\\traceback_utils.py:70\u001b[0m, in \u001b[0;36mfilter_traceback.<locals>.error_handler\u001b[1;34m(*args, **kwargs)\u001b[0m\n\u001b[0;32m     67\u001b[0m     filtered_tb \u001b[39m=\u001b[39m _process_traceback_frames(e\u001b[39m.\u001b[39m__traceback__)\n\u001b[0;32m     68\u001b[0m     \u001b[39m# To get the full stack trace, call:\u001b[39;00m\n\u001b[0;32m     69\u001b[0m     \u001b[39m# `tf.debugging.disable_traceback_filtering()`\u001b[39;00m\n\u001b[1;32m---> 70\u001b[0m     \u001b[39mraise\u001b[39;00m e\u001b[39m.\u001b[39mwith_traceback(filtered_tb) \u001b[39mfrom\u001b[39;00m \u001b[39mNone\u001b[39;00m\n\u001b[0;32m     71\u001b[0m \u001b[39mfinally\u001b[39;00m:\n\u001b[0;32m     72\u001b[0m     \u001b[39mdel\u001b[39;00m filtered_tb\n",
      "File \u001b[1;32mc:\\Users\\Zuza\\.conda\\envs\\tensorflow-g\\lib\\site-packages\\tensorflow\\python\\eager\\execute.py:54\u001b[0m, in \u001b[0;36mquick_execute\u001b[1;34m(op_name, num_outputs, inputs, attrs, ctx, name)\u001b[0m\n\u001b[0;32m     52\u001b[0m \u001b[39mtry\u001b[39;00m:\n\u001b[0;32m     53\u001b[0m   ctx\u001b[39m.\u001b[39mensure_initialized()\n\u001b[1;32m---> 54\u001b[0m   tensors \u001b[39m=\u001b[39m pywrap_tfe\u001b[39m.\u001b[39mTFE_Py_Execute(ctx\u001b[39m.\u001b[39m_handle, device_name, op_name,\n\u001b[0;32m     55\u001b[0m                                       inputs, attrs, num_outputs)\n\u001b[0;32m     56\u001b[0m \u001b[39mexcept\u001b[39;00m core\u001b[39m.\u001b[39m_NotOkStatusException \u001b[39mas\u001b[39;00m e:\n\u001b[0;32m     57\u001b[0m   \u001b[39mif\u001b[39;00m name \u001b[39mis\u001b[39;00m \u001b[39mnot\u001b[39;00m \u001b[39mNone\u001b[39;00m:\n",
      "\u001b[1;31mResourceExhaustedError\u001b[0m: Graph execution error:\n\nDetected at node 'sequential/xception/block2_sepconv1_bn/FusedBatchNormV3' defined at (most recent call last):\n    File \"c:\\Users\\Zuza\\.conda\\envs\\tensorflow-g\\lib\\runpy.py\", line 197, in _run_module_as_main\n      return _run_code(code, main_globals, None,\n    File \"c:\\Users\\Zuza\\.conda\\envs\\tensorflow-g\\lib\\runpy.py\", line 87, in _run_code\n      exec(code, run_globals)\n    File \"c:\\Users\\Zuza\\.conda\\envs\\tensorflow-g\\lib\\site-packages\\ipykernel_launcher.py\", line 17, in <module>\n      app.launch_new_instance()\n    File \"c:\\Users\\Zuza\\.conda\\envs\\tensorflow-g\\lib\\site-packages\\traitlets\\config\\application.py\", line 992, in launch_instance\n      app.start()\n    File \"c:\\Users\\Zuza\\.conda\\envs\\tensorflow-g\\lib\\site-packages\\ipykernel\\kernelapp.py\", line 711, in start\n      self.io_loop.start()\n    File \"c:\\Users\\Zuza\\.conda\\envs\\tensorflow-g\\lib\\site-packages\\tornado\\platform\\asyncio.py\", line 215, in start\n      self.asyncio_loop.run_forever()\n    File \"c:\\Users\\Zuza\\.conda\\envs\\tensorflow-g\\lib\\asyncio\\base_events.py\", line 596, in run_forever\n      self._run_once()\n    File \"c:\\Users\\Zuza\\.conda\\envs\\tensorflow-g\\lib\\asyncio\\base_events.py\", line 1890, in _run_once\n      handle._run()\n    File \"c:\\Users\\Zuza\\.conda\\envs\\tensorflow-g\\lib\\asyncio\\events.py\", line 80, in _run\n      self._context.run(self._callback, *self._args)\n    File \"c:\\Users\\Zuza\\.conda\\envs\\tensorflow-g\\lib\\site-packages\\ipykernel\\kernelbase.py\", line 510, in dispatch_queue\n      await self.process_one()\n    File \"c:\\Users\\Zuza\\.conda\\envs\\tensorflow-g\\lib\\site-packages\\ipykernel\\kernelbase.py\", line 499, in process_one\n      await dispatch(*args)\n    File \"c:\\Users\\Zuza\\.conda\\envs\\tensorflow-g\\lib\\site-packages\\ipykernel\\kernelbase.py\", line 406, in dispatch_shell\n      await result\n    File \"c:\\Users\\Zuza\\.conda\\envs\\tensorflow-g\\lib\\site-packages\\ipykernel\\kernelbase.py\", line 729, in execute_request\n      reply_content = await reply_content\n    File \"c:\\Users\\Zuza\\.conda\\envs\\tensorflow-g\\lib\\site-packages\\ipykernel\\ipkernel.py\", line 411, in do_execute\n      res = shell.run_cell(\n    File \"c:\\Users\\Zuza\\.conda\\envs\\tensorflow-g\\lib\\site-packages\\ipykernel\\zmqshell.py\", line 531, in run_cell\n      return super().run_cell(*args, **kwargs)\n    File \"c:\\Users\\Zuza\\.conda\\envs\\tensorflow-g\\lib\\site-packages\\IPython\\core\\interactiveshell.py\", line 3006, in run_cell\n      result = self._run_cell(\n    File \"c:\\Users\\Zuza\\.conda\\envs\\tensorflow-g\\lib\\site-packages\\IPython\\core\\interactiveshell.py\", line 3061, in _run_cell\n      result = runner(coro)\n    File \"c:\\Users\\Zuza\\.conda\\envs\\tensorflow-g\\lib\\site-packages\\IPython\\core\\async_helpers.py\", line 129, in _pseudo_sync_runner\n      coro.send(None)\n    File \"c:\\Users\\Zuza\\.conda\\envs\\tensorflow-g\\lib\\site-packages\\IPython\\core\\interactiveshell.py\", line 3266, in run_cell_async\n      has_raised = await self.run_ast_nodes(code_ast.body, cell_name,\n    File \"c:\\Users\\Zuza\\.conda\\envs\\tensorflow-g\\lib\\site-packages\\IPython\\core\\interactiveshell.py\", line 3445, in run_ast_nodes\n      if await self.run_code(code, result, async_=asy):\n    File \"c:\\Users\\Zuza\\.conda\\envs\\tensorflow-g\\lib\\site-packages\\IPython\\core\\interactiveshell.py\", line 3505, in run_code\n      exec(code_obj, self.user_global_ns, self.user_ns)\n    File \"C:\\Users\\Zuza\\AppData\\Local\\Temp\\ipykernel_19056\\2864241074.py\", line 2, in <module>\n      model.fit(x=train_gen, epochs=10, validation_data=(val_gen),validation_steps= None, shuffle=True)\n    File \"c:\\Users\\Zuza\\.conda\\envs\\tensorflow-g\\lib\\site-packages\\keras\\utils\\traceback_utils.py\", line 65, in error_handler\n      return fn(*args, **kwargs)\n    File \"c:\\Users\\Zuza\\.conda\\envs\\tensorflow-g\\lib\\site-packages\\keras\\engine\\training.py\", line 1564, in fit\n      tmp_logs = self.train_function(iterator)\n    File \"c:\\Users\\Zuza\\.conda\\envs\\tensorflow-g\\lib\\site-packages\\keras\\engine\\training.py\", line 1160, in train_function\n      return step_function(self, iterator)\n    File \"c:\\Users\\Zuza\\.conda\\envs\\tensorflow-g\\lib\\site-packages\\keras\\engine\\training.py\", line 1146, in step_function\n      outputs = model.distribute_strategy.run(run_step, args=(data,))\n    File \"c:\\Users\\Zuza\\.conda\\envs\\tensorflow-g\\lib\\site-packages\\keras\\engine\\training.py\", line 1135, in run_step\n      outputs = model.train_step(data)\n    File \"c:\\Users\\Zuza\\.conda\\envs\\tensorflow-g\\lib\\site-packages\\keras\\engine\\training.py\", line 993, in train_step\n      y_pred = self(x, training=True)\n    File \"c:\\Users\\Zuza\\.conda\\envs\\tensorflow-g\\lib\\site-packages\\keras\\utils\\traceback_utils.py\", line 65, in error_handler\n      return fn(*args, **kwargs)\n    File \"c:\\Users\\Zuza\\.conda\\envs\\tensorflow-g\\lib\\site-packages\\keras\\engine\\training.py\", line 557, in __call__\n      return super().__call__(*args, **kwargs)\n    File \"c:\\Users\\Zuza\\.conda\\envs\\tensorflow-g\\lib\\site-packages\\keras\\utils\\traceback_utils.py\", line 65, in error_handler\n      return fn(*args, **kwargs)\n    File \"c:\\Users\\Zuza\\.conda\\envs\\tensorflow-g\\lib\\site-packages\\keras\\engine\\base_layer.py\", line 1097, in __call__\n      outputs = call_fn(inputs, *args, **kwargs)\n    File \"c:\\Users\\Zuza\\.conda\\envs\\tensorflow-g\\lib\\site-packages\\keras\\utils\\traceback_utils.py\", line 96, in error_handler\n      return fn(*args, **kwargs)\n    File \"c:\\Users\\Zuza\\.conda\\envs\\tensorflow-g\\lib\\site-packages\\keras\\engine\\sequential.py\", line 410, in call\n      return super().call(inputs, training=training, mask=mask)\n    File \"c:\\Users\\Zuza\\.conda\\envs\\tensorflow-g\\lib\\site-packages\\keras\\engine\\functional.py\", line 510, in call\n      return self._run_internal_graph(inputs, training=training, mask=mask)\n    File \"c:\\Users\\Zuza\\.conda\\envs\\tensorflow-g\\lib\\site-packages\\keras\\engine\\functional.py\", line 667, in _run_internal_graph\n      outputs = node.layer(*args, **kwargs)\n    File \"c:\\Users\\Zuza\\.conda\\envs\\tensorflow-g\\lib\\site-packages\\keras\\utils\\traceback_utils.py\", line 65, in error_handler\n      return fn(*args, **kwargs)\n    File \"c:\\Users\\Zuza\\.conda\\envs\\tensorflow-g\\lib\\site-packages\\keras\\engine\\training.py\", line 557, in __call__\n      return super().__call__(*args, **kwargs)\n    File \"c:\\Users\\Zuza\\.conda\\envs\\tensorflow-g\\lib\\site-packages\\keras\\utils\\traceback_utils.py\", line 65, in error_handler\n      return fn(*args, **kwargs)\n    File \"c:\\Users\\Zuza\\.conda\\envs\\tensorflow-g\\lib\\site-packages\\keras\\engine\\base_layer.py\", line 1097, in __call__\n      outputs = call_fn(inputs, *args, **kwargs)\n    File \"c:\\Users\\Zuza\\.conda\\envs\\tensorflow-g\\lib\\site-packages\\keras\\utils\\traceback_utils.py\", line 96, in error_handler\n      return fn(*args, **kwargs)\n    File \"c:\\Users\\Zuza\\.conda\\envs\\tensorflow-g\\lib\\site-packages\\keras\\engine\\functional.py\", line 510, in call\n      return self._run_internal_graph(inputs, training=training, mask=mask)\n    File \"c:\\Users\\Zuza\\.conda\\envs\\tensorflow-g\\lib\\site-packages\\keras\\engine\\functional.py\", line 667, in _run_internal_graph\n      outputs = node.layer(*args, **kwargs)\n    File \"c:\\Users\\Zuza\\.conda\\envs\\tensorflow-g\\lib\\site-packages\\keras\\utils\\traceback_utils.py\", line 65, in error_handler\n      return fn(*args, **kwargs)\n    File \"c:\\Users\\Zuza\\.conda\\envs\\tensorflow-g\\lib\\site-packages\\keras\\engine\\base_layer.py\", line 1097, in __call__\n      outputs = call_fn(inputs, *args, **kwargs)\n    File \"c:\\Users\\Zuza\\.conda\\envs\\tensorflow-g\\lib\\site-packages\\keras\\utils\\traceback_utils.py\", line 96, in error_handler\n      return fn(*args, **kwargs)\n    File \"c:\\Users\\Zuza\\.conda\\envs\\tensorflow-g\\lib\\site-packages\\keras\\layers\\normalization\\batch_normalization.py\", line 850, in call\n      outputs = self._fused_batch_norm(inputs, training=training)\n    File \"c:\\Users\\Zuza\\.conda\\envs\\tensorflow-g\\lib\\site-packages\\keras\\layers\\normalization\\batch_normalization.py\", line 660, in _fused_batch_norm\n      output, mean, variance = control_flow_util.smart_cond(\n    File \"c:\\Users\\Zuza\\.conda\\envs\\tensorflow-g\\lib\\site-packages\\keras\\utils\\control_flow_util.py\", line 108, in smart_cond\n      return tf.__internal__.smart_cond.smart_cond(\n    File \"c:\\Users\\Zuza\\.conda\\envs\\tensorflow-g\\lib\\site-packages\\keras\\layers\\normalization\\batch_normalization.py\", line 634, in _fused_batch_norm_training\n      return tf.compat.v1.nn.fused_batch_norm(\nNode: 'sequential/xception/block2_sepconv1_bn/FusedBatchNormV3'\nOOM when allocating tensor with shape[32,128,125,125] and type float on /job:localhost/replica:0/task:0/device:GPU:0 by allocator GPU_0_bfc\n\t [[{{node sequential/xception/block2_sepconv1_bn/FusedBatchNormV3}}]]\nHint: If you want to see a list of allocated tensors when OOM happens, add report_tensor_allocations_upon_oom to RunOptions for current allocation info. This isn't available when running in Eager mode.\n [Op:__inference_train_function_11567]"
     ]
    }
   ],
   "source": [
    "#zadziala jak wrzuce obrazki\n",
    "model.fit(x=train_gen, epochs=10, validation_data=(val_gen),validation_steps= None, shuffle=True)"
   ]
  }
 ],
 "metadata": {
  "kernelspec": {
   "display_name": "Python 3",
   "language": "python",
   "name": "python3"
  },
  "language_info": {
   "codemirror_mode": {
    "name": "ipython",
    "version": 3
   },
   "file_extension": ".py",
   "mimetype": "text/x-python",
   "name": "python",
   "nbconvert_exporter": "python",
   "pygments_lexer": "ipython3",
   "version": "3.9.0"
  },
  "orig_nbformat": 4
 },
 "nbformat": 4,
 "nbformat_minor": 2
}
