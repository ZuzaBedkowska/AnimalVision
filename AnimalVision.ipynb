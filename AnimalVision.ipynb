{
 "cells": [
  {
   "attachments": {},
   "cell_type": "markdown",
   "metadata": {},
   "source": [
    "#### **Instalacja bibliotek**"
   ]
  },
  {
   "cell_type": "code",
   "execution_count": 1,
   "metadata": {},
   "outputs": [],
   "source": [
    "#tu rzeczy do instalacji, zaczynac od %\n",
    "#%pip install matplotlib\n",
    "#%pip install pandas\n",
    "#tu sklearn, możliwe że trzeba zrestartowac krenel po updacie\n",
    "#%pip install -U scikit-learn\n",
    "#%pip install scipy"
   ]
  },
  {
   "attachments": {},
   "cell_type": "markdown",
   "metadata": {},
   "source": [
    "#### **Importy**"
   ]
  },
  {
   "cell_type": "code",
   "execution_count": 2,
   "metadata": {},
   "outputs": [
    {
     "name": "stdout",
     "output_type": "stream",
     "text": [
      "Num GPUs Available:  1\n",
      "Import done\n"
     ]
    }
   ],
   "source": [
    "#tu biblioteki\n",
    "import numpy as np\n",
    "import time\n",
    "from tensorflow.keras.preprocessing.image import ImageDataGenerator\n",
    "from tensorflow.keras.models import Sequential\n",
    "from tensorflow.keras.layers import Conv2D, Dense, Flatten, MaxPool2D, Dropout, BatchNormalization\n",
    "from tensorflow.keras.optimizers import Adam, Adamax\n",
    "from tensorflow.keras import regularizers\n",
    "from matplotlib import pyplot as plt\n",
    "from sklearn.metrics import roc_curve, auc, accuracy_score\n",
    "import tensorflow as tf\n",
    "\n",
    "print(\"Num GPUs Available: \", len(tf.config.list_physical_devices('GPU')))\n",
    "\n",
    "print(\"Import done\")"
   ]
  },
  {
   "attachments": {},
   "cell_type": "markdown",
   "metadata": {},
   "source": [
    "#### **Przeniesienie obliczeń na GPU**"
   ]
  },
  {
   "cell_type": "code",
   "execution_count": 3,
   "metadata": {},
   "outputs": [
    {
     "name": "stdout",
     "output_type": "stream",
     "text": [
      "1  GPUs found!\n",
      "1  Physical GPUs,  1  Logical GPUs\n",
      "GPUs done\n"
     ]
    }
   ],
   "source": [
    "#GPUs - tu poki co nie dziala, trzeba postawic srodowisko wirtualne\n",
    "gpus = tf.config.experimental.list_physical_devices('GPU')\n",
    "print (len(gpus), \" GPUs found!\")\n",
    "if gpus:\n",
    "    try:\n",
    "        for gpu in gpus:\n",
    "            tf.config.experimental.set_memory_growth(gpu, True)\n",
    "        logical_gpus = tf.config.experimental.list_logical_devices('GPU')\n",
    "        print(len(gpus), \" Physical GPUs, \", len(logical_gpus), \" Logical GPUs\")\n",
    "    except RuntimeError as e:\n",
    "        print(e)\n",
    "print(\"GPUs done\")"
   ]
  },
  {
   "attachments": {},
   "cell_type": "markdown",
   "metadata": {},
   "source": [
    "#### **Wczytanie obrazków**"
   ]
  },
  {
   "cell_type": "code",
   "execution_count": 4,
   "metadata": {},
   "outputs": [],
   "source": [
    "def directory_flow(train_directory, val_directory, shape):\n",
    "    print (\"generators start\")\n",
    "    image_generator=ImageDataGenerator()\n",
    "    train_gen = image_generator.flow_from_directory(train_directory, target_size=shape, shuffle=True) #sciezka do train dir\n",
    "    print (\"train done\")\n",
    "    val_gen = image_generator.flow_from_directory(val_directory, target_size=shape, shuffle=True)\n",
    "    print (\"validate done\")\n",
    "    print (\"generators done\")\n",
    "    return train_gen, val_gen"
   ]
  },
  {
   "cell_type": "code",
   "execution_count": 5,
   "metadata": {},
   "outputs": [
    {
     "name": "stdout",
     "output_type": "stream",
     "text": [
      "generators start\n",
      "Found 30000 images belonging to 15 classes.\n",
      "train done\n",
      "Found 2000 images belonging to 15 classes.\n",
      "validate done\n",
      "generators done\n",
      "Directory flow done!\n"
     ]
    }
   ],
   "source": [
    "#nie zadziala, bo jeszcze nie ma obrazkow\n",
    "train_gen, val_gen = directory_flow(\"./archive/TrainingData\", \"./archive/ValidationData\", (256, 256))\n",
    "print(\"Directory flow done!\")"
   ]
  },
  {
   "attachments": {},
   "cell_type": "markdown",
   "metadata": {},
   "source": [
    "#### **Wstępna analiza danych**"
   ]
  },
  {
   "cell_type": "code",
   "execution_count": 6,
   "metadata": {},
   "outputs": [],
   "source": [
    "# Do analizy danych\n",
    "#labels = kategorie (rodzaje zwierzatek)\n",
    "def plot_label_count(df, plot_title):\n",
    "    '''\n",
    "    This function take df and plot labels value counts\n",
    "    '''\n",
    "\n",
    "    # Define needed variables\n",
    "    vcounts = df['labels'].value_counts()\n",
    "    labels = vcounts.keys().tolist()\n",
    "    values = vcounts.tolist()\n",
    "    lcount = len(labels)\n",
    "\n",
    "    if lcount > 55:\n",
    "        print('The number of labels is > 55, no plot will be produced')\n",
    "\n",
    "    else:\n",
    "        plot_labels(lcount, labels, values, plot_title)\n",
    "\n",
    "def plot_labels(lcount, labels, values, plot_title):\n",
    "    width = lcount * 4\n",
    "    width = np.min([width, 20])\n",
    "\n",
    "    plt.figure(figsize= (width, 5))\n",
    "\n",
    "    form = {'family': 'serif', 'color': 'blue', 'size': 25}\n",
    "    sns.barplot(x=labels, y=values)\n",
    "    plt.title(f'Images per Label in {plot_title} data', fontsize= 24, color= 'blue')\n",
    "    plt.xticks(rotation= 90, fontsize= 18)\n",
    "    plt.yticks(fontsize= 18)\n",
    "    plt.xlabel('CLASS', fontdict= form)\n",
    "    yaxis_label = 'IMAGE COUNT'\n",
    "    plt.ylabel(yaxis_label, fontdict= form)\n",
    "\n",
    "    rotation = 'vertical' if lcount >= 8 else 'horizontal'\n",
    "    for i in range(lcount):\n",
    "        plt.text(i, values[i] / 2, str(values[i]), fontsize= 12,\n",
    "                rotation= rotation, color= 'yellow', ha= 'center')\n",
    "\n",
    "    plt.show()"
   ]
  },
  {
   "cell_type": "code",
   "execution_count": 7,
   "metadata": {},
   "outputs": [],
   "source": [
    "#Do analizy danych = przykładowe obrazki\n",
    "def show_images(gen):\n",
    "    '''\n",
    "    This function take the data generator and show sample of the images\n",
    "    '''\n",
    "\n",
    "    # return classes , images to be displayed\n",
    "    g_dict = gen.class_indices        # defines dictionary {'class': index}\n",
    "    classes = list(g_dict.keys())     # defines list of dictionary's kays (classes), classes names : string\n",
    "    images, labels = next(gen)        # get a batch size samples from the generator\n",
    "\n",
    "    # calculate number of displayed samples\n",
    "    length = len(labels)        # length of batch size\n",
    "    sample = min(length, 25)    # check if sample less than 25 images\n",
    "\n",
    "    plt.figure(figsize= (20, 20))\n",
    "\n",
    "    for i in range(sample):\n",
    "        plt.subplot(5, 5, i + 1)\n",
    "        image = images[i] / 255       # scales data to range (0 - 255)\n",
    "        plt.imshow(image)\n",
    "        index = np.argmax(labels[i])  # get image index\n",
    "        class_name = classes[index]   # get class of image\n",
    "        plt.title(class_name, color= 'blue', fontsize= 12)\n",
    "        plt.axis('off')\n",
    "    plt.show()"
   ]
  },
  {
   "cell_type": "code",
   "execution_count": 8,
   "metadata": {},
   "outputs": [],
   "source": [
    "#analiza danych - zadziala jak zamiast train_gen i val_gen da się dataframy\n",
    "#pokaz ile obrazkow w kategorii\n",
    "\n",
    "#plot_label_count(train_gen, 'train')\n",
    "#plot_label_count(val_gen, 'validate')"
   ]
  },
  {
   "attachments": {},
   "cell_type": "markdown",
   "metadata": {},
   "source": [
    "#### **Modele**"
   ]
  },
  {
   "cell_type": "code",
   "execution_count": 9,
   "metadata": {},
   "outputs": [
    {
     "name": "stdout",
     "output_type": "stream",
     "text": [
      "Model done!\n"
     ]
    }
   ],
   "source": [
    "#model madry - xception trenowany wstepnie(weights = imagenet)\n",
    "def make_smart_xception_pretrained_model(shape):\n",
    "    #te rzeczy w nawiasie zapobiegna przetrenowaniu\n",
    "    base_model = tf.keras.applications.xception.Xception(include_top=False, weights=\"imagenet\",input_shape=shape, pooling='max')\n",
    "    model = Sequential([\n",
    "        base_model,\n",
    "        Dense(15, activation= 'softmax')\n",
    "        ])\n",
    "    #ograniczenie warstw zapobiegnie przetrenowaniu\n",
    "    model.compile(Adamax(), loss= 'categorical_crossentropy', metrics= ['accuracy'])\n",
    "    return model\n",
    "print(\"Model done!\")"
   ]
  },
  {
   "cell_type": "code",
   "execution_count": 10,
   "metadata": {},
   "outputs": [
    {
     "name": "stdout",
     "output_type": "stream",
     "text": [
      "Model done!\n"
     ]
    }
   ],
   "source": [
    "#model glupi - tylko na xception, nie trenowany wstepnie bo weights=none\n",
    "def make_dumb_xception_non_pretrained_model(shape):\n",
    "    base_model = tf.keras.applications.xception.Xception(include_top=True, weights=None,input_shape=shape, pooling='max', classes=15)\n",
    "    base_model.compile(Adamax(), loss= 'categorical_crossentropy', metrics= ['accuracy'])\n",
    "    return base_model\n",
    "print(\"Model done!\")"
   ]
  },
  {
   "cell_type": "code",
   "execution_count": 11,
   "metadata": {},
   "outputs": [
    {
     "name": "stdout",
     "output_type": "stream",
     "text": [
      "Model done!\n"
     ]
    }
   ],
   "source": [
    "#model glupi - taki jak na zajeciach, ale najwiecej warstw\n",
    "def make_dumb_the_biggest_classic_model(shape):\n",
    "    model = Sequential()\n",
    "    model.add(Conv2D(kernel_size=(3,3), filters = 3, activation=\"relu\", input_shape = shape))\n",
    "    model.add(Conv2D(kernel_size=(3,3), filters = 3, activation=\"relu\"))\n",
    "    model.add(Conv2D(kernel_size=(3,3), filters = 3, activation=\"relu\"))\n",
    "    model.add(Conv2D(kernel_size=(3,3), filters = 3, activation=\"relu\"))\n",
    "    model.add(Conv2D(kernel_size=(3,3), filters = 3, activation=\"relu\"))\n",
    "    model.add(Conv2D(kernel_size=(3,3), filters = 3, activation=\"relu\"))\n",
    "    model.add(Conv2D(kernel_size=(3,3), filters = 3, activation=\"relu\"))\n",
    "    model.add(Conv2D(kernel_size=(3,3), filters = 3, activation=\"relu\"))\n",
    "    model.add(Conv2D(kernel_size=(3,3), filters = 3, activation=\"relu\"))\n",
    "    model.add(Conv2D(kernel_size=(3,3), filters = 3, activation=\"relu\"))\n",
    "    model.add(Conv2D(kernel_size=(3,3), filters = 3, activation=\"relu\"))\n",
    "    model.add(Conv2D(kernel_size=(3,3), filters = 3, activation=\"relu\"))\n",
    "    model.add(Conv2D(kernel_size=(3,3), filters = 3, activation=\"relu\"))\n",
    "    model.add(Conv2D(kernel_size=(3,3), filters = 3, activation=\"relu\"))\n",
    "    model.add(Conv2D(kernel_size=(3,3), filters = 3, activation=\"relu\"))\n",
    "    model.add(Conv2D(kernel_size=(3,3), filters = 3, activation=\"relu\"))\n",
    "    model.add(Conv2D(kernel_size=(3,3), filters = 3, activation=\"relu\"))\n",
    "    model.add(Conv2D(kernel_size=(3,3), filters = 3, activation=\"relu\"))\n",
    "    model.add(Conv2D(kernel_size=(3,3), filters = 3, activation=\"relu\"))\n",
    "    model.add(Conv2D(kernel_size=(3,3), filters = 3, activation=\"relu\"))\n",
    "    model.add(Conv2D(kernel_size=(3,3), filters = 3, activation=\"relu\"))\n",
    "    model.add(Conv2D(kernel_size=(3,3), filters = 3, activation=\"relu\"))\n",
    "    model.add(Conv2D(kernel_size=(3,3), filters = 3, activation=\"relu\"))\n",
    "    model.add(Conv2D(kernel_size=(3,3), filters = 3, activation=\"relu\"))\n",
    "    model.add(Conv2D(kernel_size=(3,3), filters = 3, activation=\"relu\"))\n",
    "    model.add(Conv2D(kernel_size=(3,3), filters = 3, activation=\"relu\"))\n",
    "    model.add(Conv2D(kernel_size=(3,3), filters = 3, activation=\"relu\"))\n",
    "    model.add(Conv2D(kernel_size=(3,3), filters = 3, activation=\"relu\"))\n",
    "    model.add(Conv2D(kernel_size=(3,3), filters = 3, activation=\"relu\"))\n",
    "    model.add(Conv2D(kernel_size=(3,3), filters = 3, activation=\"relu\"))\n",
    "    model.add(Flatten())\n",
    "    model.add(Dense(512, activation=\"relu\"))\n",
    "    model.add(Dense(256, activation=\"relu\"))\n",
    "    model.add(Dense(128, activation=\"relu\"))\n",
    "    model.add(Dense(64, activation=\"relu\"))\n",
    "    model.add(Dense(32, activation=\"relu\"))\n",
    "    model.add(Dense(16, activation=\"relu\"))\n",
    "    model.add(Dense(15, activation=\"softmax\"))\n",
    "    model.compile(Adamax(), loss= 'categorical_crossentropy', metrics= ['accuracy'])\n",
    "    return model\n",
    "print(\"Model done!\")"
   ]
  },
  {
   "cell_type": "code",
   "execution_count": 12,
   "metadata": {},
   "outputs": [
    {
     "name": "stdout",
     "output_type": "stream",
     "text": [
      "Model done!\n"
     ]
    }
   ],
   "source": [
    "#model glupi - taki jak na zajeciach, ale wiecej warstw\n",
    "def make_dumb_bigger_classic_model(shape):\n",
    "    model = Sequential()\n",
    "    model.add(Conv2D(kernel_size=(3,3), filters = 3, activation=\"relu\", input_shape = shape))\n",
    "    model.add(Conv2D(kernel_size=(3,3), filters = 3, activation=\"relu\"))\n",
    "    model.add(Conv2D(kernel_size=(3,3), filters = 3, activation=\"relu\"))\n",
    "    model.add(Conv2D(kernel_size=(3,3), filters = 3, activation=\"relu\"))\n",
    "    model.add(Conv2D(kernel_size=(3,3), filters = 3, activation=\"relu\"))\n",
    "    model.add(Conv2D(kernel_size=(3,3), filters = 3, activation=\"relu\"))\n",
    "    model.add(Conv2D(kernel_size=(3,3), filters = 3, activation=\"relu\"))\n",
    "    model.add(Conv2D(kernel_size=(3,3), filters = 3, activation=\"relu\"))\n",
    "    model.add(Conv2D(kernel_size=(3,3), filters = 3, activation=\"relu\"))\n",
    "    model.add(Conv2D(kernel_size=(3,3), filters = 3, activation=\"relu\"))\n",
    "    model.add(Conv2D(kernel_size=(3,3), filters = 3, activation=\"relu\"))\n",
    "    model.add(Conv2D(kernel_size=(3,3), filters = 3, activation=\"relu\"))\n",
    "    model.add(Conv2D(kernel_size=(3,3), filters = 3, activation=\"relu\"))\n",
    "    model.add(Conv2D(kernel_size=(3,3), filters = 3, activation=\"relu\"))\n",
    "    model.add(Conv2D(kernel_size=(3,3), filters = 3, activation=\"relu\"))\n",
    "    model.add(Flatten())\n",
    "    model.add(Dense(256, activation=\"relu\"))\n",
    "    model.add(Dense(128, activation=\"relu\"))\n",
    "    model.add(Dense(64, activation=\"relu\"))\n",
    "    model.add(Dense(15, activation=\"softmax\"))\n",
    "    model.compile(Adamax(), loss= 'categorical_crossentropy', metrics= ['accuracy'])\n",
    "    return model\n",
    "print(\"Model done!\")\n"
   ]
  },
  {
   "cell_type": "code",
   "execution_count": 13,
   "metadata": {},
   "outputs": [
    {
     "name": "stdout",
     "output_type": "stream",
     "text": [
      "Model done!\n"
     ]
    }
   ],
   "source": [
    "#model glupi - taki jak na zajeciach\n",
    "def make_dumb_classic_model(shape):\n",
    "    model = Sequential()\n",
    "    model.add(Conv2D(kernel_size=(3,3), filters = 3, activation=\"relu\", input_shape = shape))\n",
    "    model.add(Conv2D(kernel_size=(3,3), filters = 3, activation=\"relu\"))\n",
    "    model.add(Conv2D(kernel_size=(3,3), filters = 3, activation=\"relu\"))\n",
    "    model.add(Conv2D(kernel_size=(3,3), filters = 3, activation=\"relu\"))\n",
    "    model.add(Conv2D(kernel_size=(3,3), filters = 3, activation=\"relu\"))\n",
    "    model.add(Flatten())\n",
    "    model.add(Dense(256, activation=\"relu\"))\n",
    "    model.add(Dense(15, activation=\"softmax\"))\n",
    "    model.compile(Adamax(), loss= 'categorical_crossentropy', metrics= ['accuracy'])\n",
    "    return model\n",
    "print(\"Model done!\")"
   ]
  },
  {
   "attachments": {},
   "cell_type": "markdown",
   "metadata": {},
   "source": [
    "#### **Utworzenie modelu i rozpoczęcie treningu**"
   ]
  },
  {
   "cell_type": "code",
   "execution_count": 14,
   "metadata": {},
   "outputs": [
    {
     "name": "stdout",
     "output_type": "stream",
     "text": [
      "Model generated\n"
     ]
    }
   ],
   "source": [
    "#model = make_dumb_classic_model((256, 256, 3))\n",
    "model = make_dumb_bigger_classic_model((256, 256, 3))\n",
    "#model = make_dumb_the_biggest_classic_model((256, 256, 3))\n",
    "#model = make_dumb_xception_non_pretrained_model((256,256,3))\n",
    "#model = make_smart_xception_pretrained_model((256, 256, 3))\n",
    "\n",
    "print(\"Model generated\")"
   ]
  },
  {
   "cell_type": "code",
   "execution_count": 15,
   "metadata": {},
   "outputs": [
    {
     "name": "stdout",
     "output_type": "stream",
     "text": [
      "Model: \"sequential\"\n",
      "_________________________________________________________________\n",
      " Layer (type)                Output Shape              Param #   \n",
      "=================================================================\n",
      " conv2d (Conv2D)             (None, 254, 254, 3)       84        \n",
      "                                                                 \n",
      " conv2d_1 (Conv2D)           (None, 252, 252, 3)       84        \n",
      "                                                                 \n",
      " conv2d_2 (Conv2D)           (None, 250, 250, 3)       84        \n",
      "                                                                 \n",
      " conv2d_3 (Conv2D)           (None, 248, 248, 3)       84        \n",
      "                                                                 \n",
      " conv2d_4 (Conv2D)           (None, 246, 246, 3)       84        \n",
      "                                                                 \n",
      " conv2d_5 (Conv2D)           (None, 244, 244, 3)       84        \n",
      "                                                                 \n",
      " conv2d_6 (Conv2D)           (None, 242, 242, 3)       84        \n",
      "                                                                 \n",
      " conv2d_7 (Conv2D)           (None, 240, 240, 3)       84        \n",
      "                                                                 \n",
      " conv2d_8 (Conv2D)           (None, 238, 238, 3)       84        \n",
      "                                                                 \n",
      " conv2d_9 (Conv2D)           (None, 236, 236, 3)       84        \n",
      "                                                                 \n",
      " conv2d_10 (Conv2D)          (None, 234, 234, 3)       84        \n",
      "                                                                 \n",
      " conv2d_11 (Conv2D)          (None, 232, 232, 3)       84        \n",
      "                                                                 \n",
      " conv2d_12 (Conv2D)          (None, 230, 230, 3)       84        \n",
      "                                                                 \n",
      " conv2d_13 (Conv2D)          (None, 228, 228, 3)       84        \n",
      "                                                                 \n",
      " conv2d_14 (Conv2D)          (None, 226, 226, 3)       84        \n",
      "                                                                 \n",
      " flatten (Flatten)           (None, 153228)            0         \n",
      "                                                                 \n",
      " dense (Dense)               (None, 256)               39226624  \n",
      "                                                                 \n",
      " dense_1 (Dense)             (None, 128)               32896     \n",
      "                                                                 \n",
      " dense_2 (Dense)             (None, 64)                8256      \n",
      "                                                                 \n",
      " dense_3 (Dense)             (None, 15)                975       \n",
      "                                                                 \n",
      "=================================================================\n",
      "Total params: 39,270,011\n",
      "Trainable params: 39,270,011\n",
      "Non-trainable params: 0\n",
      "_________________________________________________________________\n"
     ]
    }
   ],
   "source": [
    "model.summary()"
   ]
  },
  {
   "cell_type": "code",
   "execution_count": 16,
   "metadata": {},
   "outputs": [
    {
     "name": "stdout",
     "output_type": "stream",
     "text": [
      "Epoch 1/10\n",
      "496/938 [==============>...............] - ETA: 1:08 - loss: 2.4321 - accuracy: 0.1818"
     ]
    }
   ],
   "source": [
    "#zadziala jak wrzuce obrazki\n",
    "history = model.fit(x=train_gen, epochs=10, validation_data=(val_gen),validation_steps= None, shuffle=True)"
   ]
  },
  {
   "cell_type": "code",
   "execution_count": null,
   "metadata": {},
   "outputs": [],
   "source": [
    "print(history.history.keys())"
   ]
  },
  {
   "cell_type": "code",
   "execution_count": null,
   "metadata": {},
   "outputs": [],
   "source": [
    "# summarize history for accuracy\n",
    "plt.plot(history.history['accuracy'])\n",
    "plt.plot(history.history['val_accuracy'])\n",
    "plt.title('model accuracy')\n",
    "plt.ylabel('accuracy')\n",
    "plt.xlabel('epoch')\n",
    "plt.legend(['train', 'validate'], loc='upper left')\n",
    "plt.show()\n",
    "# summarize history for loss\n",
    "plt.plot(history.history['loss'])\n",
    "plt.plot(history.history['val_loss'])\n",
    "plt.title('model loss')\n",
    "plt.ylabel('loss')\n",
    "plt.xlabel('epoch')\n",
    "plt.legend(['train', 'validate'], loc='upper left')\n",
    "plt.show()"
   ]
  },
  {
   "cell_type": "code",
   "execution_count": null,
   "metadata": {},
   "outputs": [],
   "source": [
    "from sklearn.metrics import confusion_matrix\n",
    "import seaborn as sns\n",
    "\n",
    "predictions = model.predict(val_gen)\n",
    "predicted_labels = np.argmax(predictions, axis=1)\n",
    "confusion_mtx = confusion_matrix(val_gen.classes, predicted_labels)\n",
    "print(confusion_mtx)\n",
    "# Tworzenie heatmapy\n",
    "plt.figure(figsize=(10, 8))\n",
    "class_names = list(val_gen.class_indices.keys())\n",
    "sns.heatmap(confusion_mtx, annot=True, cmap='Blues', xticklabels=class_names, yticklabels=class_names)\n",
    "plt.xticks(rotation=90)\n",
    "plt.xlabel('Predicted labels')\n",
    "plt.ylabel('True labels')\n",
    "plt.title('Confusion Matrix')\n",
    "plt.tight_layout()\n",
    "plt.show()"
   ]
  }
 ],
 "metadata": {
  "kernelspec": {
   "display_name": "Python 3",
   "language": "python",
   "name": "python3"
  },
  "language_info": {
   "codemirror_mode": {
    "name": "ipython",
    "version": 3
   },
   "file_extension": ".py",
   "mimetype": "text/x-python",
   "name": "python",
   "nbconvert_exporter": "python",
   "pygments_lexer": "ipython3",
   "version": "3.9.0"
  },
  "orig_nbformat": 4
 },
 "nbformat": 4,
 "nbformat_minor": 2
}
