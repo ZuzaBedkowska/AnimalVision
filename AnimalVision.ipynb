{
 "cells": [
  {
   "attachments": {},
   "cell_type": "markdown",
   "metadata": {},
   "source": [
    "#### **Instalacja bibliotek**"
   ]
  },
  {
   "cell_type": "code",
   "execution_count": 1,
   "metadata": {},
   "outputs": [],
   "source": [
    "#tu rzeczy do instalacji, zaczynac od %\n",
    "#%pip install matplotlib\n",
    "#%pip install pandas\n",
    "#tu sklearn, możliwe że trzeba zrestartowac krenel po updacie\n",
    "#%pip install -U scikit-learn"
   ]
  },
  {
   "attachments": {},
   "cell_type": "markdown",
   "metadata": {},
   "source": [
    "#### **Importy**"
   ]
  },
  {
   "cell_type": "code",
   "execution_count": 2,
   "metadata": {},
   "outputs": [
    {
     "name": "stdout",
     "output_type": "stream",
     "text": [
      "Num GPUs Available:  0\n",
      "Import done\n"
     ]
    }
   ],
   "source": [
    "#tu biblioteki\n",
    "import numpy as np\n",
    "import time\n",
    "from tensorflow.keras.preprocessing.image import ImageDataGenerator\n",
    "from tensorflow.keras.models import Sequential\n",
    "from tensorflow.keras.layers import Conv2D, Dense, Flatten, MaxPool2D, Dropout, BatchNormalization\n",
    "from tensorflow.keras.optimizers import Adam, Adamax\n",
    "from tensorflow.keras import regularizers\n",
    "from matplotlib import pyplot as plt\n",
    "from sklearn.metrics import roc_curve, auc, accuracy_score\n",
    "import tensorflow as tf\n",
    "\n",
    "print(\"Num GPUs Available: \", len(tf.config.list_physical_devices('GPU')))\n",
    "\n",
    "print(\"Import done\")"
   ]
  },
  {
   "attachments": {},
   "cell_type": "markdown",
   "metadata": {},
   "source": [
    "#### **Przeniesienie obliczeń na GPU**"
   ]
  },
  {
   "cell_type": "code",
   "execution_count": 3,
   "metadata": {},
   "outputs": [
    {
     "name": "stdout",
     "output_type": "stream",
     "text": [
      "0  GPUs found!\n",
      "GPUs done\n"
     ]
    }
   ],
   "source": [
    "#GPUs - tu poki co nie dziala, trzeba postawic srodowisko wirtualne\n",
    "gpus = tf.config.experimental.list_physical_devices('GPU')\n",
    "print (len(gpus), \" GPUs found!\")\n",
    "if gpus:\n",
    "    try:\n",
    "        for gpu in gpus:\n",
    "            tf.config.experimental.set_memory_growth(gpu, True)\n",
    "        logical_gpus = tf.config.experimental.list_logical_devices('GPU')\n",
    "        print(len(gpus), \" Physical GPUs, \", len(logical_gpus), \" Logical GPUs\")\n",
    "    except RuntimeError as e:\n",
    "        print(e)\n",
    "print(\"GPUs done\")"
   ]
  },
  {
   "attachments": {},
   "cell_type": "markdown",
   "metadata": {},
   "source": [
    "#### **Wczytanie obrazków**"
   ]
  },
  {
   "cell_type": "code",
   "execution_count": 4,
   "metadata": {},
   "outputs": [],
   "source": [
    "def directory_flow(train_directory, test_directory, val_directory, shape):\n",
    "    #directory = nazwy folderow,\n",
    "    #shape = rozmiar obrazka, u nas 256x256\n",
    "    print (\"generators start\")\n",
    "    image_generator=ImageDataGenerator()\n",
    "    train_gen = image_generator.flow_from_directory(train_directory, target_size=shape, shuffle=True) #sciezka do train dir\n",
    "    print (\"train done\")\n",
    "    val_gen = image_generator.flow_from_directory(val_directory, target_size=shape, shuffle=True)\n",
    "    print (\"validate done\")\n",
    "    test_gen = image_generator.flow_from_directory(test_directory, target_size=shape, shuffle=True) #sciezka do test dir\n",
    "    print (\"generators done\")\n",
    "    #zastanowic sie nad zwracaniem validate gen\n",
    "    return train_gen, test_gen, val_gen"
   ]
  },
  {
   "cell_type": "code",
   "execution_count": 5,
   "metadata": {},
   "outputs": [
    {
     "name": "stdout",
     "output_type": "stream",
     "text": [
      "generators start\n",
      "Found 30000 images belonging to 15 classes.\n",
      "train done\n",
      "Found 2000 images belonging to 15 classes.\n",
      "validate done\n",
      "Found 2407 images belonging to 15 classes.\n",
      "generators done\n",
      "Directory flow done!\n"
     ]
    }
   ],
   "source": [
    "#nie zadziala, bo jeszcze nie ma obrazkow\n",
    "train_gen, test_gen, val_gen = directory_flow(\"./archive/TrainingData\", \"./archive/TestingData\", \"./archive/ValidationData\", (224, 224))\n",
    "print(\"Directory flow done!\")"
   ]
  },
  {
   "attachments": {},
   "cell_type": "markdown",
   "metadata": {},
   "source": [
    "#### **Wstępna analiza danych**"
   ]
  },
  {
   "cell_type": "code",
   "execution_count": 6,
   "metadata": {},
   "outputs": [],
   "source": [
    "# Do analizy danych\n",
    "#labels = kategorie (rodzaje zwierzatek)\n",
    "def plot_label_count(df, plot_title):\n",
    "    '''\n",
    "    This function take df and plot labels value counts\n",
    "    '''\n",
    "\n",
    "    # Define needed variables\n",
    "    vcounts = df['labels'].value_counts()\n",
    "    labels = vcounts.keys().tolist()\n",
    "    values = vcounts.tolist()\n",
    "    lcount = len(labels)\n",
    "\n",
    "    if lcount > 55:\n",
    "        print('The number of labels is > 55, no plot will be produced')\n",
    "\n",
    "    else:\n",
    "        plot_labels(lcount, labels, values, plot_title)\n",
    "\n",
    "def plot_labels(lcount, labels, values, plot_title):\n",
    "    width = lcount * 4\n",
    "    width = np.min([width, 20])\n",
    "\n",
    "    plt.figure(figsize= (width, 5))\n",
    "\n",
    "    form = {'family': 'serif', 'color': 'blue', 'size': 25}\n",
    "    sns.barplot(x=labels, y=values)\n",
    "    plt.title(f'Images per Label in {plot_title} data', fontsize= 24, color= 'blue')\n",
    "    plt.xticks(rotation= 90, fontsize= 18)\n",
    "    plt.yticks(fontsize= 18)\n",
    "    plt.xlabel('CLASS', fontdict= form)\n",
    "    yaxis_label = 'IMAGE COUNT'\n",
    "    plt.ylabel(yaxis_label, fontdict= form)\n",
    "\n",
    "    rotation = 'vertical' if lcount >= 8 else 'horizontal'\n",
    "    for i in range(lcount):\n",
    "        plt.text(i, values[i] / 2, str(values[i]), fontsize= 12,\n",
    "                rotation= rotation, color= 'yellow', ha= 'center')\n",
    "\n",
    "    plt.show()"
   ]
  },
  {
   "cell_type": "code",
   "execution_count": 7,
   "metadata": {},
   "outputs": [],
   "source": [
    "#Do analizy danych = przykładowe obrazki\n",
    "def show_images(gen):\n",
    "    '''\n",
    "    This function take the data generator and show sample of the images\n",
    "    '''\n",
    "\n",
    "    # return classes , images to be displayed\n",
    "    g_dict = gen.class_indices        # defines dictionary {'class': index}\n",
    "    classes = list(g_dict.keys())     # defines list of dictionary's kays (classes), classes names : string\n",
    "    images, labels = next(gen)        # get a batch size samples from the generator\n",
    "\n",
    "    # calculate number of displayed samples\n",
    "    length = len(labels)        # length of batch size\n",
    "    sample = min(length, 25)    # check if sample less than 25 images\n",
    "\n",
    "    plt.figure(figsize= (20, 20))\n",
    "\n",
    "    for i in range(sample):\n",
    "        plt.subplot(5, 5, i + 1)\n",
    "        image = images[i] / 255       # scales data to range (0 - 255)\n",
    "        plt.imshow(image)\n",
    "        index = np.argmax(labels[i])  # get image index\n",
    "        class_name = classes[index]   # get class of image\n",
    "        plt.title(class_name, color= 'blue', fontsize= 12)\n",
    "        plt.axis('off')\n",
    "    plt.show()"
   ]
  },
  {
   "cell_type": "code",
   "execution_count": 8,
   "metadata": {},
   "outputs": [],
   "source": [
    "#analiza danych - zadziala jak zamiast train_gen i val_gen da się dataframy\n",
    "#pokaz ile obrazkow w kategorii\n",
    "\n",
    "#plot_label_count(train_gen, 'train')\n",
    "#plot_label_count(val_gen, 'validate')"
   ]
  },
  {
   "attachments": {},
   "cell_type": "markdown",
   "metadata": {},
   "source": [
    "#### **Modele**"
   ]
  },
  {
   "cell_type": "code",
   "execution_count": 9,
   "metadata": {},
   "outputs": [
    {
     "name": "stdout",
     "output_type": "stream",
     "text": [
      "Model done!\n"
     ]
    }
   ],
   "source": [
    "#model madry - xception trenowany wstepnie(weights = imagenet) + warstwy z regulatorami\n",
    "def make_model(shape):\n",
    "    #te rzeczy w nawiasie zapobiegna przetrenowaniu\n",
    "    base_model = tf.keras.applications.xception.Xception(include_top=False, weights=\"imagenet\",input_shape=shape, pooling='max')\n",
    "    model = Sequential([\n",
    "        base_model,\n",
    "        BatchNormalization(axis= -1, momentum= 0.99, epsilon= 0.001),\n",
    "        Dense(256, kernel_regularizer= regularizers.l2(l= 0.016), activity_regularizer= regularizers.l1(0.006),\n",
    "                bias_regularizer= regularizers.l1(0.006), activation= 'relu'),\n",
    "        Dropout(rate= 0.45, seed= 123),\n",
    "        Dense(15, activation= 'softmax')\n",
    "        ])\n",
    "    #ograniczenie warstw zapobiegnie przetrenowaniu\n",
    "    model.compile(Adamax(learning_rate= 0.001), loss= 'categorical_crossentropy', metrics= ['accuracy'])\n",
    "    return model\n",
    "print(\"Model done!\")"
   ]
  },
  {
   "cell_type": "code",
   "execution_count": 10,
   "metadata": {},
   "outputs": [
    {
     "name": "stdout",
     "output_type": "stream",
     "text": [
      "Model done!\n"
     ]
    }
   ],
   "source": [
    "#model glupi - tylko na xception, nie trenowany wstepnie bo weights=none\n",
    "def make_dumb_xception_non_pretrained_model(shape):\n",
    "    base_model = tf.keras.applications.xception.Xception(include_top=True, weights=None,input_shape=shape, pooling='max', classes=15)\n",
    "    base_model.compile(Adamax(learning_rate= 0.001), loss= 'categorical_crossentropy', metrics= ['accuracy'])\n",
    "    return base_model\n",
    "print(\"Model done!\")"
   ]
  },
  {
   "cell_type": "code",
   "execution_count": 11,
   "metadata": {},
   "outputs": [
    {
     "name": "stdout",
     "output_type": "stream",
     "text": [
      "Model done!\n"
     ]
    }
   ],
   "source": [
    "#model mniej glupi - tylko na xception, trenowany wstepnie, ale bez regulatorow\n",
    "def make_less_dumb_xception_pretrained_model(shape):\n",
    "    base_model = tf.keras.applications.xception.Xception(include_top=False, weights=\"imagenet\",input_shape=shape, pooling='max')\n",
    "    model = Sequential([\n",
    "        base_model,\n",
    "        Dense(15, activation= 'softmax')\n",
    "        ])\n",
    "    model.compile(Adamax(learning_rate= 0.001), loss= 'categorical_crossentropy', metrics= ['accuracy'])\n",
    "    return model\n",
    "print(\"Model done!\")"
   ]
  },
  {
   "cell_type": "code",
   "execution_count": 12,
   "metadata": {},
   "outputs": [
    {
     "name": "stdout",
     "output_type": "stream",
     "text": [
      "Model done!\n"
     ]
    }
   ],
   "source": [
    "#model glupi - taki jak na zajeciach\n",
    "def make_dumb_classic_model(shape):\n",
    "    model = Sequential()\n",
    "    model.add(Conv2D(kernel_size=(3,3), filters = 3, activation=\"relu\", input_shape = shape))\n",
    "    model.add(Conv2D(kernel_size=(3,3), filters = 3, activation=\"relu\"))\n",
    "    model.add(Conv2D(kernel_size=(3,3), filters = 3, activation=\"relu\"))\n",
    "    model.add(Conv2D(kernel_size=(3,3), filters = 3, activation=\"relu\"))\n",
    "    model.add(Conv2D(kernel_size=(3,3), filters = 3, activation=\"relu\"))\n",
    "    model.add(Flatten())\n",
    "    model.add(Dense(256, activation=\"relu\"))\n",
    "    model.add(Dense(15, activation=\"softmax\"))\n",
    "    model.compile(Adamax(learning_rate= 0.001), loss= 'categorical_crossentropy', metrics= ['accuracy'])\n",
    "    return model\n",
    "print(\"Model done!\")"
   ]
  },
  {
   "attachments": {},
   "cell_type": "markdown",
   "metadata": {},
   "source": [
    "#### **Utworzenie modelu i rozpoczęcie treningu**"
   ]
  },
  {
   "cell_type": "code",
   "execution_count": 13,
   "metadata": {},
   "outputs": [
    {
     "name": "stdout",
     "output_type": "stream",
     "text": [
      "Model generated\n"
     ]
    }
   ],
   "source": [
    "model=make_less_dumb_xception_pretrained_model((224, 224, 3))\n",
    "print(\"Model generated\")"
   ]
  },
  {
   "cell_type": "code",
   "execution_count": 14,
   "metadata": {},
   "outputs": [
    {
     "name": "stdout",
     "output_type": "stream",
     "text": [
      "Model: \"sequential\"\n",
      "_________________________________________________________________\n",
      " Layer (type)                Output Shape              Param #   \n",
      "=================================================================\n",
      " xception (Functional)       (None, 2048)              20861480  \n",
      "                                                                 \n",
      " dense (Dense)               (None, 15)                30735     \n",
      "                                                                 \n",
      "=================================================================\n",
      "Total params: 20,892,215\n",
      "Trainable params: 20,837,687\n",
      "Non-trainable params: 54,528\n",
      "_________________________________________________________________\n"
     ]
    }
   ],
   "source": [
    "model.summary()"
   ]
  },
  {
   "cell_type": "code",
   "execution_count": 15,
   "metadata": {},
   "outputs": [
    {
     "name": "stdout",
     "output_type": "stream",
     "text": [
      "Epoch 1/10\n",
      "112/938 [==>...........................] - ETA: 1:16:33 - loss: 0.4029 - accuracy: 0.8884"
     ]
    }
   ],
   "source": [
    "#zadziala jak wrzuce obrazki\n",
    "model.fit(x=train_gen, epochs=10, validation_data=(val_gen),validation_steps= None, shuffle= False)"
   ]
  }
 ],
 "metadata": {
  "kernelspec": {
   "display_name": "Python 3",
   "language": "python",
   "name": "python3"
  },
  "language_info": {
   "codemirror_mode": {
    "name": "ipython",
    "version": 3
   },
   "file_extension": ".py",
   "mimetype": "text/x-python",
   "name": "python",
   "nbconvert_exporter": "python",
   "pygments_lexer": "ipython3",
   "version": "3.10.4"
  },
  "orig_nbformat": 4
 },
 "nbformat": 4,
 "nbformat_minor": 2
}
