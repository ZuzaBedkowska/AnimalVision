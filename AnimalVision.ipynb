{
 "cells": [
  {
   "cell_type": "code",
   "execution_count": 1,
   "metadata": {},
   "outputs": [],
   "source": [
    "#tu rzeczy do instalacji, zaczynac od !\n",
    "#!pip install tensorflow\n",
    "#!pip install matplotlib"
   ]
  },
  {
   "cell_type": "code",
   "execution_count": 2,
   "metadata": {},
   "outputs": [
    {
     "name": "stdout",
     "output_type": "stream",
     "text": [
      "Import done\n"
     ]
    }
   ],
   "source": [
    "#tu biblioteki\n",
    "import numpy as np\n",
    "import pandas as pd\n",
    "import time\n",
    "from tensorflow.keras.preprocessing.image import ImageDataGenerator\n",
    "from tensorflow.keras.models import Sequential\n",
    "from tensorflow.keras.layers import Conv2D, Dense, Flatten, MaxPool2D\n",
    "from matplotlib import pyplot as plt\n",
    "from sklearn.metrics import roc_curve, auc, accuracy_score\n",
    "import tensorflow as tf\n",
    "\n",
    "print(\"Import done\")"
   ]
  },
  {
   "cell_type": "code",
   "execution_count": 3,
   "metadata": {},
   "outputs": [
    {
     "name": "stdout",
     "output_type": "stream",
     "text": [
      "0  GPUs found!\n",
      "GPUs done\n"
     ]
    }
   ],
   "source": [
    "#GPUs - tu poki co nie dziala, trzeba postawic srodowisko wirtualne\n",
    "gpus = tf.config.experimental.list_physical_devices('GPU')\n",
    "print (len(gpus), \" GPUs found!\")\n",
    "if gpus:\n",
    "    try:\n",
    "        for gpu in gpus:\n",
    "            tf.config.experimental.set_memory_growth(gpu, true)\n",
    "        logical_gpus = tf.config.experimental.list_logical_devices('GPU')\n",
    "        print(len(gpus), \" Physical GPUs, \", len(logical_gpus), \" Logical GPUs\")\n",
    "    except RuntimeError as e:\n",
    "        print(e)\n",
    "print(\"GPUs done\")"
   ]
  },
  {
   "cell_type": "code",
   "execution_count": 4,
   "metadata": {},
   "outputs": [],
   "source": [
    "def directory_flow(train_directory, test_directory, val_directory, shape):\n",
    "    #directory = nazwy folderow,\n",
    "    #shape = rozmiar obrazka, u nas 256x256\n",
    "    print (\"generators start\")\n",
    "    image_generator=ImageDataGenerator()\n",
    "    train_gen = image_generator.flow_from_directory(train_directory, target_size=shape, shuffle=True) #sciezka do train dir\n",
    "    print (\"train done\")\n",
    "    val_gen = image_generator.flow_from_directory(val_directory, target_size=shape, shuffle=True)\n",
    "    print (\"validate done\")\n",
    "    test_gen = image_generator.flow_from_directory(test_directory, target_size=shape, shuffle=False) #sciezka do test dir\n",
    "    print (\"generators done\")\n",
    "    #zastanowic sie nad zwracaniem validate gen\n",
    "    return train_gen, test_gen, val_gen"
   ]
  },
  {
   "cell_type": "code",
   "execution_count": 5,
   "metadata": {},
   "outputs": [
    {
     "name": "stdout",
     "output_type": "stream",
     "text": [
      "generators start\n"
     ]
    },
    {
     "ename": "FileNotFoundError",
     "evalue": "[WinError 3] System nie może odnaleźć określonej ścieżki: 'Training Data'",
     "output_type": "error",
     "traceback": [
      "\u001b[1;31m---------------------------------------------------------------------------\u001b[0m",
      "\u001b[1;31mFileNotFoundError\u001b[0m                         Traceback (most recent call last)",
      "Cell \u001b[1;32mIn[5], line 2\u001b[0m\n\u001b[0;32m      1\u001b[0m \u001b[39m#nie zadziala, bo jeszcze nie ma obrazkow\u001b[39;00m\n\u001b[1;32m----> 2\u001b[0m train_gen, test_gen, val_gen \u001b[39m=\u001b[39m directory_flow(\u001b[39m\"\u001b[39;49m\u001b[39mTraining Data\u001b[39;49m\u001b[39m\"\u001b[39;49m, \u001b[39m\"\u001b[39;49m\u001b[39mTesting Data\u001b[39;49m\u001b[39m\"\u001b[39;49m, \u001b[39m\"\u001b[39;49m\u001b[39mValidation Data\u001b[39;49m\u001b[39m\"\u001b[39;49m, (\u001b[39m256\u001b[39;49m, \u001b[39m256\u001b[39;49m))\n\u001b[0;32m      3\u001b[0m \u001b[39mprint\u001b[39m(\u001b[39m\"\u001b[39m\u001b[39mDirectory flow done!\u001b[39m\u001b[39m\"\u001b[39m)\n",
      "Cell \u001b[1;32mIn[4], line 6\u001b[0m, in \u001b[0;36mdirectory_flow\u001b[1;34m(train_directory, test_directory, val_directory, shape)\u001b[0m\n\u001b[0;32m      4\u001b[0m \u001b[39mprint\u001b[39m (\u001b[39m\"\u001b[39m\u001b[39mgenerators start\u001b[39m\u001b[39m\"\u001b[39m)\n\u001b[0;32m      5\u001b[0m image_generator\u001b[39m=\u001b[39mImageDataGenerator()\n\u001b[1;32m----> 6\u001b[0m train_gen \u001b[39m=\u001b[39m image_generator\u001b[39m.\u001b[39;49mflow_from_directory(train_directory, target_size\u001b[39m=\u001b[39;49mshape, shuffle\u001b[39m=\u001b[39;49m\u001b[39mTrue\u001b[39;49;00m) \u001b[39m#sciezka do train dir\u001b[39;00m\n\u001b[0;32m      7\u001b[0m \u001b[39mprint\u001b[39m (\u001b[39m\"\u001b[39m\u001b[39mtrain done\u001b[39m\u001b[39m\"\u001b[39m)\n\u001b[0;32m      8\u001b[0m val_gen \u001b[39m=\u001b[39m image_generator\u001b[39m.\u001b[39mflow_from_directory(val_directory, target_size\u001b[39m=\u001b[39mshape, shuffle\u001b[39m=\u001b[39m\u001b[39mTrue\u001b[39;00m)\n",
      "File \u001b[1;32mc:\\Program Files\\Python310\\lib\\site-packages\\keras\\preprocessing\\image.py:1469\u001b[0m, in \u001b[0;36mImageDataGenerator.flow_from_directory\u001b[1;34m(self, directory, target_size, color_mode, classes, class_mode, batch_size, shuffle, seed, save_to_dir, save_prefix, save_format, follow_links, subset, interpolation, keep_aspect_ratio)\u001b[0m\n\u001b[0;32m   1386\u001b[0m \u001b[39mdef\u001b[39;00m \u001b[39mflow_from_directory\u001b[39m(\u001b[39mself\u001b[39m,\n\u001b[0;32m   1387\u001b[0m                         directory,\n\u001b[0;32m   1388\u001b[0m                         target_size\u001b[39m=\u001b[39m(\u001b[39m256\u001b[39m, \u001b[39m256\u001b[39m),\n\u001b[1;32m   (...)\u001b[0m\n\u001b[0;32m   1400\u001b[0m                         interpolation\u001b[39m=\u001b[39m\u001b[39m'\u001b[39m\u001b[39mnearest\u001b[39m\u001b[39m'\u001b[39m,\n\u001b[0;32m   1401\u001b[0m                         keep_aspect_ratio\u001b[39m=\u001b[39m\u001b[39mFalse\u001b[39;00m):\n\u001b[0;32m   1402\u001b[0m \u001b[39m  \u001b[39m\u001b[39m\"\"\"Takes the path to a directory & generates batches of augmented data.\u001b[39;00m\n\u001b[0;32m   1403\u001b[0m \n\u001b[0;32m   1404\u001b[0m \u001b[39m  Args:\u001b[39;00m\n\u001b[1;32m   (...)\u001b[0m\n\u001b[0;32m   1467\u001b[0m \u001b[39m          and `y` is a numpy array of corresponding labels.\u001b[39;00m\n\u001b[0;32m   1468\u001b[0m \u001b[39m  \"\"\"\u001b[39;00m\n\u001b[1;32m-> 1469\u001b[0m   \u001b[39mreturn\u001b[39;00m DirectoryIterator(\n\u001b[0;32m   1470\u001b[0m       directory,\n\u001b[0;32m   1471\u001b[0m       \u001b[39mself\u001b[39;49m,\n\u001b[0;32m   1472\u001b[0m       target_size\u001b[39m=\u001b[39;49mtarget_size,\n\u001b[0;32m   1473\u001b[0m       color_mode\u001b[39m=\u001b[39;49mcolor_mode,\n\u001b[0;32m   1474\u001b[0m       keep_aspect_ratio\u001b[39m=\u001b[39;49mkeep_aspect_ratio,\n\u001b[0;32m   1475\u001b[0m       classes\u001b[39m=\u001b[39;49mclasses,\n\u001b[0;32m   1476\u001b[0m       class_mode\u001b[39m=\u001b[39;49mclass_mode,\n\u001b[0;32m   1477\u001b[0m       data_format\u001b[39m=\u001b[39;49m\u001b[39mself\u001b[39;49m\u001b[39m.\u001b[39;49mdata_format,\n\u001b[0;32m   1478\u001b[0m       batch_size\u001b[39m=\u001b[39;49mbatch_size,\n\u001b[0;32m   1479\u001b[0m       shuffle\u001b[39m=\u001b[39;49mshuffle,\n\u001b[0;32m   1480\u001b[0m       seed\u001b[39m=\u001b[39;49mseed,\n\u001b[0;32m   1481\u001b[0m       save_to_dir\u001b[39m=\u001b[39;49msave_to_dir,\n\u001b[0;32m   1482\u001b[0m       save_prefix\u001b[39m=\u001b[39;49msave_prefix,\n\u001b[0;32m   1483\u001b[0m       save_format\u001b[39m=\u001b[39;49msave_format,\n\u001b[0;32m   1484\u001b[0m       follow_links\u001b[39m=\u001b[39;49mfollow_links,\n\u001b[0;32m   1485\u001b[0m       subset\u001b[39m=\u001b[39;49msubset,\n\u001b[0;32m   1486\u001b[0m       interpolation\u001b[39m=\u001b[39;49minterpolation,\n\u001b[0;32m   1487\u001b[0m       dtype\u001b[39m=\u001b[39;49m\u001b[39mself\u001b[39;49m\u001b[39m.\u001b[39;49mdtype)\n",
      "File \u001b[1;32mc:\\Program Files\\Python310\\lib\\site-packages\\keras\\preprocessing\\image.py:507\u001b[0m, in \u001b[0;36mDirectoryIterator.__init__\u001b[1;34m(self, directory, image_data_generator, target_size, color_mode, classes, class_mode, batch_size, shuffle, seed, data_format, save_to_dir, save_prefix, save_format, follow_links, subset, interpolation, keep_aspect_ratio, dtype)\u001b[0m\n\u001b[0;32m    505\u001b[0m \u001b[39mif\u001b[39;00m \u001b[39mnot\u001b[39;00m classes:\n\u001b[0;32m    506\u001b[0m   classes \u001b[39m=\u001b[39m []\n\u001b[1;32m--> 507\u001b[0m   \u001b[39mfor\u001b[39;00m subdir \u001b[39min\u001b[39;00m \u001b[39msorted\u001b[39m(os\u001b[39m.\u001b[39;49mlistdir(directory)):\n\u001b[0;32m    508\u001b[0m     \u001b[39mif\u001b[39;00m os\u001b[39m.\u001b[39mpath\u001b[39m.\u001b[39misdir(os\u001b[39m.\u001b[39mpath\u001b[39m.\u001b[39mjoin(directory, subdir)):\n\u001b[0;32m    509\u001b[0m       classes\u001b[39m.\u001b[39mappend(subdir)\n",
      "\u001b[1;31mFileNotFoundError\u001b[0m: [WinError 3] System nie może odnaleźć określonej ścieżki: 'Training Data'"
     ]
    }
   ],
   "source": [
    "#nie zadziala, bo jeszcze nie ma obrazkow\n",
    "train_gen, test_gen, val_gen = directory_flow(\"Training Data\", \"Testing Data\", \"Validation Data\", (256, 256))\n",
    "print(\"Directory flow done!\")"
   ]
  },
  {
   "cell_type": "code",
   "execution_count": null,
   "metadata": {},
   "outputs": [],
   "source": [
    "#model\n",
    "def make_model(shape):\n",
    "    model = Sequential()\n",
    "    model.add(Conv2D(kernel_size = (3,3), filters = 3, activation = \"relu\", input_shape=shape))\n",
    "    model.add(Conv2D(kernel_size = (3,3), filters = 3, activation = \"relu\"))\n",
    "    model.add(Conv2D(kernel_size = (3,3), filters = 3, activation = \"relu\"))\n",
    "    model.add(Conv2D(kernel_size = (3,3), filters = 3, activation = \"relu\"))\n",
    "    model.add(Conv2D(kernel_size = (3,3), filters = 3, activation = \"relu\"))\n",
    "    model.add(Flatten())\n",
    "    model.add(Dense(256, activation = \"relu\"))\n",
    "    model.add(Dense(15, activation = \"softmax\"))\n",
    "    model.compile(optimizer = \"adam\", loss = \"binary_corssentropy\", metrics = [\"accuracy\"])\n",
    "    return model\n",
    "print(\"Model done!\")"
   ]
  },
  {
   "cell_type": "code",
   "execution_count": null,
   "metadata": {},
   "outputs": [],
   "source": [
    "model=make_model((256, 256, 3))\n",
    "print(\"Model generated\")"
   ]
  },
  {
   "cell_type": "code",
   "execution_count": null,
   "metadata": {},
   "outputs": [],
   "source": [
    "model.summary()"
   ]
  },
  {
   "cell_type": "code",
   "execution_count": null,
   "metadata": {},
   "outputs": [],
   "source": [
    "#zadziala jak wrzuce obrazki\n",
    "model.fit(train_gen, steps_per_epoch=len(train_gen), validation_data=(val_gen),validation_steps= None, shuffle= False)"
   ]
  }
 ],
 "metadata": {
  "kernelspec": {
   "display_name": "Python 3",
   "language": "python",
   "name": "python3"
  },
  "language_info": {
   "codemirror_mode": {
    "name": "ipython",
    "version": 3
   },
   "file_extension": ".py",
   "mimetype": "text/x-python",
   "name": "python",
   "nbconvert_exporter": "python",
   "pygments_lexer": "ipython3",
   "version": "3.10.4"
  },
  "orig_nbformat": 4,
  "vscode": {
   "interpreter": {
    "hash": "26de051ba29f2982a8de78e945f0abaf191376122a1563185a90213a26c5da77"
   }
  }
 },
 "nbformat": 4,
 "nbformat_minor": 2
}
